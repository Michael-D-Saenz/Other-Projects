{
  "nbformat": 4,
  "nbformat_minor": 0,
  "metadata": {
    "colab": {
      "name": "Font Reader",
      "provenance": [],
      "collapsed_sections": []
    },
    "kernelspec": {
      "display_name": "Python 3",
      "name": "python3"
    },
    "language_info": {
      "name": "python"
    }
  },
  "cells": [
    {
      "cell_type": "markdown",
      "metadata": {
        "id": "S-lylckfxARD"
      },
      "source": [
        "# MATH6350 Homework 2\n",
        "Group: Carolina Garza, Michael Saenz, Ray Thomas"
      ]
    },
    {
      "cell_type": "code",
      "metadata": {
        "id": "MI3msQlmAJOC"
      },
      "source": [
        "# Import libraries\n",
        "import pandas as pd\n",
        "import matplotlib.pyplot as plt\n",
        "import numpy as np\n",
        "import seaborn as sns\n",
        "import math"
      ],
      "execution_count": null,
      "outputs": []
    },
    {
      "cell_type": "code",
      "metadata": {
        "id": "IVmuXkbXANEL"
      },
      "source": [
        "# Import fonts\n",
        "lucida = pd.read_csv('LUCIDA.csv')\n",
        "times = pd.read_csv('TIMES.csv')\n",
        "frank = pd.read_csv('FRANKLIN.csv')\n",
        "tahoma = pd.read_csv('TAHOMA.csv')"
      ],
      "execution_count": null,
      "outputs": []
    },
    {
      "cell_type": "code",
      "metadata": {
        "id": "X3wCDoc-APKo"
      },
      "source": [
        "# Drop unnecessary columns\n",
        "lucida = lucida.drop(columns = [\"fontVariant\", \"m_label\", \"orientation\", \"m_top\", \"m_left\", \"originalH\", \"originalW\", \"h\", \"w\"])\n",
        "times = times.drop(columns = [\"fontVariant\", \"m_label\", \"orientation\", \"m_top\", \"m_left\", \"originalH\", \"originalW\", \"h\", \"w\"])\n",
        "frank = frank.drop(columns = [\"fontVariant\", \"m_label\", \"orientation\", \"m_top\", \"m_left\", \"originalH\", \"originalW\", \"h\", \"w\"])\n",
        "tahoma = tahoma.drop(columns = [\"fontVariant\", \"m_label\", \"orientation\", \"m_top\", \"m_left\", \"originalH\", \"originalW\", \"h\", \"w\"])"
      ],
      "execution_count": null,
      "outputs": []
    },
    {
      "cell_type": "code",
      "metadata": {
        "id": "wwtujIFBATWR"
      },
      "source": [
        "# Drop rows with null values\n",
        "lucida = lucida.dropna()\n",
        "times = times.dropna()\n",
        "frank = frank.dropna()\n",
        "tahoma = tahoma.dropna()"
      ],
      "execution_count": null,
      "outputs": []
    },
    {
      "cell_type": "code",
      "metadata": {
        "id": "w0fFK-AqAUog"
      },
      "source": [
        "# Define CL1 to be the subset of lucida with 'strength' = 0.4 and 'italics' = 0\n",
        "CL1 = lucida[lucida['strength'] == 0.4]\n",
        "CL1 = CL1[CL1['italic'] == 0]"
      ],
      "execution_count": null,
      "outputs": []
    },
    {
      "cell_type": "code",
      "metadata": {
        "id": "VuWd548IAXW_"
      },
      "source": [
        "# Define CL2 to be the subset of times with 'strength' = 0.4 and 'italics' = 0\n",
        "CL2 = times[times['strength'] == 0.4]\n",
        "CL2 = CL2[CL2['italic'] == 0]"
      ],
      "execution_count": null,
      "outputs": []
    },
    {
      "cell_type": "code",
      "metadata": {
        "id": "8v24DU4RAdLv"
      },
      "source": [
        "# Define CL3 to be the subset of frank with 'strength' = 0.4 and 'italics' = 0\n",
        "CL3 = frank[frank['strength'] == 0.4]\n",
        "CL3 = CL3[CL3['italic'] == 0]"
      ],
      "execution_count": null,
      "outputs": []
    },
    {
      "cell_type": "code",
      "metadata": {
        "id": "zkcryp0oAfqV"
      },
      "source": [
        "# Define CL4 to be the subset of tahoma with 'strength' = 0.4 and 'italics' = 0\n",
        "CL4 = tahoma[tahoma['strength'] == 0.4]\n",
        "CL4 = CL4[CL4['italic'] == 0]"
      ],
      "execution_count": null,
      "outputs": []
    },
    {
      "cell_type": "code",
      "metadata": {
        "id": "ZtxCe38eAhXz"
      },
      "source": [
        "# Find the lengths of each class and the total of the classes\n",
        "N1 = len(CL1)\n",
        "N2 = len(CL2)\n",
        "N3 = len(CL3)\n",
        "N4 = len(CL4)\n",
        "N = N1 + N2 + N3 + N4"
      ],
      "execution_count": null,
      "outputs": []
    },
    {
      "cell_type": "code",
      "metadata": {
        "id": "C-BVGQfgAjHO",
        "colab": {
          "base_uri": "https://localhost:8080/"
        },
        "outputId": "507c1297-3f10-4c4f-94cb-303e8993aecf"
      },
      "source": [
        "print(\"Size of CL1: \", N1)\n",
        "print(\"Size of CL2: \", N2)\n",
        "print(\"Size of CL3: \", N3)\n",
        "print(\"Size of CL4: \", N4)\n",
        "print(\"Size of Data: \", N)"
      ],
      "execution_count": null,
      "outputs": [
        {
          "output_type": "stream",
          "name": "stdout",
          "text": [
            "Size of CL1:  3794\n",
            "Size of CL2:  4805\n",
            "Size of CL3:  3931\n",
            "Size of CL4:  3323\n",
            "Size of Data:  15853\n"
          ]
        }
      ]
    },
    {
      "cell_type": "code",
      "metadata": {
        "id": "KLYBQthmAlkH",
        "colab": {
          "base_uri": "https://localhost:8080/"
        },
        "outputId": "449eee15-b729-48b4-af4f-bfcd3068a824"
      },
      "source": [
        "# Putting all the classes together\n",
        "data = pd.concat([CL1, CL2, CL3, CL4])\n",
        "data = data.reset_index(drop=True)        #resetting the indexes\n",
        "data = data.drop(columns=['font','strength','italic'])\n",
        "data.info()"
      ],
      "execution_count": null,
      "outputs": [
        {
          "output_type": "stream",
          "name": "stdout",
          "text": [
            "<class 'pandas.core.frame.DataFrame'>\n",
            "RangeIndex: 15853 entries, 0 to 15852\n",
            "Columns: 400 entries, r0c0 to r19c19\n",
            "dtypes: int64(400)\n",
            "memory usage: 48.4 MB\n"
          ]
        }
      ]
    },
    {
      "cell_type": "markdown",
      "metadata": {
        "id": "51BK1a3RArlU"
      },
      "source": [
        "## Part 1"
      ]
    },
    {
      "cell_type": "markdown",
      "metadata": {
        "id": "hF_ElVYQAwy7"
      },
      "source": [
        "#### 1.1\n",
        "\n",
        "Feature X210 = 'r10c09\n",
        "'"
      ]
    },
    {
      "cell_type": "code",
      "metadata": {
        "id": "uosEvninAvpE",
        "colab": {
          "base_uri": "https://localhost:8080/"
        },
        "outputId": "9ba5b6d9-fb66-495f-9b7c-6c06a1d83bdc"
      },
      "source": [
        "#Calculating the means of feature X210 for each of the classes\n",
        "A1 = CL1.iloc[:, [210+2]].mean()\n",
        "A2 = CL2.iloc[:, [210+2]].mean()\n",
        "A3 = CL3.iloc[:, [210+2]].mean()\n",
        "A4 = CL4.iloc[:, [210+2]].mean()\n",
        "print(\"A1: \", round(A1,2))\n",
        "print(\"A2: \", round(A2,2))\n",
        "print(\"A3: \", round(A3,2))\n",
        "print(\"A4: \", round(A4,2))"
      ],
      "execution_count": null,
      "outputs": [
        {
          "output_type": "stream",
          "name": "stdout",
          "text": [
            "A1:  r10c9    111.42\n",
            "dtype: float64\n",
            "A2:  r10c9    89.94\n",
            "dtype: float64\n",
            "A3:  r10c9    131.21\n",
            "dtype: float64\n",
            "A4:  r10c9    95.14\n",
            "dtype: float64\n"
          ]
        }
      ]
    },
    {
      "cell_type": "code",
      "metadata": {
        "id": "MkpqEMzVCoel"
      },
      "source": [
        "from scipy  import stats"
      ],
      "execution_count": null,
      "outputs": []
    },
    {
      "cell_type": "markdown",
      "metadata": {
        "id": "OzCbakzoDgtj"
      },
      "source": [
        "Checking Normality Assumption\n"
      ]
    },
    {
      "cell_type": "code",
      "metadata": {
        "id": "w2DiMNYBDbYE",
        "colab": {
          "base_uri": "https://localhost:8080/"
        },
        "outputId": "e34dcf52-27e2-47eb-8600-c2e065af5cda"
      },
      "source": [
        "stats.shapiro(CL1.iloc[:, [210+2]])"
      ],
      "execution_count": null,
      "outputs": [
        {
          "output_type": "execute_result",
          "data": {
            "text/plain": [
              "(0.7244523167610168, 0.0)"
            ]
          },
          "metadata": {},
          "execution_count": 14
        }
      ]
    },
    {
      "cell_type": "code",
      "metadata": {
        "id": "KfUELKC1DORz",
        "colab": {
          "base_uri": "https://localhost:8080/"
        },
        "outputId": "344ae4ad-96dd-470b-9db8-87af2ba87f0d"
      },
      "source": [
        "stats.shapiro(CL2.iloc[:, [210+2]])"
      ],
      "execution_count": null,
      "outputs": [
        {
          "output_type": "execute_result",
          "data": {
            "text/plain": [
              "(0.7169223427772522, 0.0)"
            ]
          },
          "metadata": {},
          "execution_count": 15
        }
      ]
    },
    {
      "cell_type": "code",
      "metadata": {
        "id": "ZZkbehxcDOZ7",
        "colab": {
          "base_uri": "https://localhost:8080/"
        },
        "outputId": "9bca9a85-daab-47e8-d9d6-f1c75d8c0efc"
      },
      "source": [
        "stats.shapiro(CL3.iloc[:, [210+2]])"
      ],
      "execution_count": null,
      "outputs": [
        {
          "output_type": "execute_result",
          "data": {
            "text/plain": [
              "(0.7060014009475708, 0.0)"
            ]
          },
          "metadata": {},
          "execution_count": 16
        }
      ]
    },
    {
      "cell_type": "code",
      "metadata": {
        "id": "YnOQt2J6DOiR",
        "colab": {
          "base_uri": "https://localhost:8080/"
        },
        "outputId": "2425f73a-4225-4a8b-d7a2-198f2b32030c"
      },
      "source": [
        "stats.shapiro(CL4.iloc[:, [210+2]])"
      ],
      "execution_count": null,
      "outputs": [
        {
          "output_type": "execute_result",
          "data": {
            "text/plain": [
              "(0.6958661675453186, 0.0)"
            ]
          },
          "metadata": {},
          "execution_count": 17
        }
      ]
    },
    {
      "cell_type": "markdown",
      "metadata": {
        "id": "q7La8y8OX9-c"
      },
      "source": [
        "Since the Shapiro-Wilkes test for normaility of feature 'X210' in each class results in p-values < $\\alpha = 0.05$ level, we reject the null hypothesis that it is normally distributed. This indicates to us that a T-test would not be ideal for this data."
      ]
    },
    {
      "cell_type": "markdown",
      "metadata": {
        "id": "pdCVPZn-DxpH"
      },
      "source": [
        "Checking Equal Variance Assumption"
      ]
    },
    {
      "cell_type": "code",
      "metadata": {
        "id": "yw3BxyKsD3eI",
        "colab": {
          "base_uri": "https://localhost:8080/"
        },
        "outputId": "561bea9a-0ed3-4a71-91d6-9676517417ea"
      },
      "source": [
        "stats.levene(CL1['r10c9'],CL2['r10c9'])"
      ],
      "execution_count": null,
      "outputs": [
        {
          "output_type": "execute_result",
          "data": {
            "text/plain": [
              "LeveneResult(statistic=110.10844984533489, pvalue=1.3243333506282974e-25)"
            ]
          },
          "metadata": {},
          "execution_count": 18
        }
      ]
    },
    {
      "cell_type": "code",
      "metadata": {
        "id": "lHV8ux6oEfVg",
        "colab": {
          "base_uri": "https://localhost:8080/"
        },
        "outputId": "1ad62f12-b422-4723-ddda-e69082018d91"
      },
      "source": [
        "stats.levene(CL1['r10c9'],CL3['r10c9'])"
      ],
      "execution_count": null,
      "outputs": [
        {
          "output_type": "execute_result",
          "data": {
            "text/plain": [
              "LeveneResult(statistic=38.02016680898135, pvalue=7.353851071670669e-10)"
            ]
          },
          "metadata": {},
          "execution_count": 19
        }
      ]
    },
    {
      "cell_type": "code",
      "metadata": {
        "id": "fLzz1JUVEtPl",
        "colab": {
          "base_uri": "https://localhost:8080/"
        },
        "outputId": "f324ca30-c5e2-40ec-e3ac-fd4057489abc"
      },
      "source": [
        "stats.levene(CL1['r10c9'],CL4['r10c9'])"
      ],
      "execution_count": null,
      "outputs": [
        {
          "output_type": "execute_result",
          "data": {
            "text/plain": [
              "LeveneResult(statistic=41.713387490907344, pvalue=1.1264449889126026e-10)"
            ]
          },
          "metadata": {},
          "execution_count": 20
        }
      ]
    },
    {
      "cell_type": "code",
      "metadata": {
        "id": "n9MWhwFqFH14",
        "colab": {
          "base_uri": "https://localhost:8080/"
        },
        "outputId": "e5cede84-21a6-44d8-c422-8c7fdc9b9f39"
      },
      "source": [
        "stats.levene(CL2['r10c9'],CL3['r10c9'])"
      ],
      "execution_count": null,
      "outputs": [
        {
          "output_type": "execute_result",
          "data": {
            "text/plain": [
              "LeveneResult(statistic=282.50538884623955, pvalue=2.0312835453663157e-62)"
            ]
          },
          "metadata": {},
          "execution_count": 21
        }
      ]
    },
    {
      "cell_type": "code",
      "metadata": {
        "id": "46J7Nq59FIYH",
        "colab": {
          "base_uri": "https://localhost:8080/"
        },
        "outputId": "42881bbb-ab72-408a-85ed-15c75a5a3fc8"
      },
      "source": [
        "stats.levene(CL2['r10c9'],CL4['r10c9'])"
      ],
      "execution_count": null,
      "outputs": [
        {
          "output_type": "execute_result",
          "data": {
            "text/plain": [
              "LeveneResult(statistic=5.61425957407581, pvalue=0.0178381394338091)"
            ]
          },
          "metadata": {},
          "execution_count": 22
        }
      ]
    },
    {
      "cell_type": "code",
      "metadata": {
        "id": "9MtSP4S_FInB",
        "colab": {
          "base_uri": "https://localhost:8080/"
        },
        "outputId": "d2e0c459-5f73-4d09-aec4-0d1d95ef6534"
      },
      "source": [
        "stats.levene(CL3['r10c9'],CL4['r10c9'])"
      ],
      "execution_count": null,
      "outputs": [
        {
          "output_type": "execute_result",
          "data": {
            "text/plain": [
              "LeveneResult(statistic=134.21193704452708, pvalue=9.151263533147766e-31)"
            ]
          },
          "metadata": {},
          "execution_count": 23
        }
      ]
    },
    {
      "cell_type": "markdown",
      "metadata": {
        "id": "yiMq9mR2tRTE"
      },
      "source": [
        "The Levene's Test for equal variance produces p-values > $\\alpha = 0.01$  for all pairs except for CL1 with CL3, and CL1 with CL4. Thus, based on $\\alpha = 0.01$ we must reject the null hypothesis that pairs CL1 with CL3, and CL1 with CL4 have equal variance. For all others, we fail to reject the null hypothesis that that the pairs have equal variance. "
      ]
    },
    {
      "cell_type": "markdown",
      "metadata": {
        "id": "B4VacKyUFlg6"
      },
      "source": [
        "Performing T-Test"
      ]
    },
    {
      "cell_type": "code",
      "metadata": {
        "id": "XWAQ5W0UFkzH",
        "colab": {
          "base_uri": "https://localhost:8080/"
        },
        "outputId": "649c5219-92fd-4828-d0d0-69fbe04576b4"
      },
      "source": [
        "result1 = stats.ttest_ind(CL1['r10c9'], CL2['r10c9'])\n",
        "result1"
      ],
      "execution_count": null,
      "outputs": [
        {
          "output_type": "execute_result",
          "data": {
            "text/plain": [
              "Ttest_indResult(statistic=8.838927046244875, pvalue=1.158089002512424e-18)"
            ]
          },
          "metadata": {},
          "execution_count": 24
        }
      ]
    },
    {
      "cell_type": "code",
      "metadata": {
        "id": "IZrrnylkGB1H",
        "colab": {
          "base_uri": "https://localhost:8080/"
        },
        "outputId": "9bf55c73-bc49-421b-f3ca-e67a3c1f34c5"
      },
      "source": [
        "result2 = stats.ttest_ind(CL1['r10c9'], CL3['r10c9'])\n",
        "result2"
      ],
      "execution_count": null,
      "outputs": [
        {
          "output_type": "execute_result",
          "data": {
            "text/plain": [
              "Ttest_indResult(statistic=-7.382652469744569, pvalue=1.7134857052625733e-13)"
            ]
          },
          "metadata": {},
          "execution_count": 25
        }
      ]
    },
    {
      "cell_type": "code",
      "metadata": {
        "id": "-w9cd6aoGHNH",
        "colab": {
          "base_uri": "https://localhost:8080/"
        },
        "outputId": "bfadc414-e86f-4738-b180-b075ae7a9074"
      },
      "source": [
        "result3 = stats.ttest_ind(CL1['r10c9'], CL4['r10c9'], equal_var=False)\n",
        "result3"
      ],
      "execution_count": null,
      "outputs": [
        {
          "output_type": "execute_result",
          "data": {
            "text/plain": [
              "Ttest_indResult(statistic=5.9721603137562065, pvalue=2.4555559289543064e-09)"
            ]
          },
          "metadata": {},
          "execution_count": 26
        }
      ]
    },
    {
      "cell_type": "code",
      "metadata": {
        "id": "sohYm5ZaGI4P",
        "colab": {
          "base_uri": "https://localhost:8080/"
        },
        "outputId": "8c891e8d-a7b5-4291-9e21-cf9defd4aeb5"
      },
      "source": [
        "result4 = stats.ttest_ind(CL2['r10c9'], CL3['r10c9'])\n",
        "result4"
      ],
      "execution_count": null,
      "outputs": [
        {
          "output_type": "execute_result",
          "data": {
            "text/plain": [
              "Ttest_indResult(statistic=-16.869971997532094, pvalue=7.354357881455104e-63)"
            ]
          },
          "metadata": {},
          "execution_count": 27
        }
      ]
    },
    {
      "cell_type": "code",
      "metadata": {
        "id": "fclgS0stGJMG",
        "colab": {
          "base_uri": "https://localhost:8080/"
        },
        "outputId": "3bb2ae72-6e5c-4e6a-b334-adf7ac3edba6"
      },
      "source": [
        "result5 = stats.ttest_ind(CL2['r10c9'], CL4['r10c9'], equal_var=True)\n",
        "result5"
      ],
      "execution_count": null,
      "outputs": [
        {
          "output_type": "execute_result",
          "data": {
            "text/plain": [
              "Ttest_indResult(statistic=-2.0801295458371976, pvalue=0.03754491484073064)"
            ]
          },
          "metadata": {},
          "execution_count": 28
        }
      ]
    },
    {
      "cell_type": "code",
      "metadata": {
        "id": "aheHJX7EGJZ1",
        "colab": {
          "base_uri": "https://localhost:8080/"
        },
        "outputId": "6b3ccb66-e3c6-4c1a-cf26-8a9fe7476537"
      },
      "source": [
        "result6 = stats.ttest_ind(CL3['r10c9'], CL4['r10c9'], equal_var=True)\n",
        "result6"
      ],
      "execution_count": null,
      "outputs": [
        {
          "output_type": "execute_result",
          "data": {
            "text/plain": [
              "Ttest_indResult(statistic=13.082926158210203, pvalue=1.1273462792915113e-38)"
            ]
          },
          "metadata": {},
          "execution_count": 29
        }
      ]
    },
    {
      "cell_type": "markdown",
      "metadata": {
        "id": "4M-1ZZa8NYue"
      },
      "source": [
        "The results of the t-test show that at the $\\alpha = 0.01$ level, the means for the pairs CL1 with CL3, and CL1 with CL4 are equal. For the rest, there is not enough evidence to suggest that they are the same."
      ]
    },
    {
      "cell_type": "markdown",
      "metadata": {
        "id": "NexOHtOwMpGX"
      },
      "source": [
        "Histograms of 'X210' for each class"
      ]
    },
    {
      "cell_type": "code",
      "metadata": {
        "id": "rVwGSb6aPBAL",
        "colab": {
          "base_uri": "https://localhost:8080/",
          "height": 638
        },
        "outputId": "27052c1c-00e6-4826-b78b-a74b95fa28aa"
      },
      "source": [
        "plt.figure(figsize=(10, 10))\n",
        "plt.subplot(221)\n",
        "CL1['r10c9'].hist()\n",
        "plt.title('X210 in CL1')\n",
        "\n",
        "plt.ylabel('Frequency')\n",
        "\n",
        "plt.subplot(222)\n",
        "CL2['r10c9'].hist()\n",
        "plt.title('X210 in CL2')\n",
        "\n",
        "\n",
        "plt.subplot(223)\n",
        "CL3['r10c9'].hist()\n",
        "plt.title('X210 in CL3')\n",
        "plt.xlabel('Values')\n",
        "plt.ylabel('Frequency')\n",
        "\n",
        "plt.subplot(224)\n",
        "CL4['r10c9'].hist()\n",
        "plt.title('X210 in CL4')\n",
        "plt.xlabel('Values')\n"
      ],
      "execution_count": null,
      "outputs": [
        {
          "output_type": "execute_result",
          "data": {
            "text/plain": [
              "Text(0.5, 0, 'Values')"
            ]
          },
          "metadata": {},
          "execution_count": 30
        },
        {
          "output_type": "display_data",
          "data": {
            "image/png": "[encoded data removed]",
            "text/plain": [
              "<Figure size 720x720 with 4 Axes>"
            ]
          },
          "metadata": {
            "needs_background": "light"
          }
        }
      ]
    },
    {
      "cell_type": "code",
      "metadata": {
        "id": "FndJaXHCM76y",
        "colab": {
          "base_uri": "https://localhost:8080/"
        },
        "outputId": "6f8acdf6-bc7b-45cd-f64b-2ee0fd35f672"
      },
      "source": [
        "from scipy.stats import ks_2samp\n",
        "test1 = ks_2samp(CL1['r10c9'], CL2['r10c9'],mode = \"asymp\")\n",
        "test1"
      ],
      "execution_count": null,
      "outputs": [
        {
          "output_type": "execute_result",
          "data": {
            "text/plain": [
              "Ks_2sampResult(statistic=0.10803728105662203, pvalue=6.421954906146147e-22)"
            ]
          },
          "metadata": {},
          "execution_count": 31
        }
      ]
    },
    {
      "cell_type": "code",
      "metadata": {
        "id": "EXKHF8RKdrdl",
        "colab": {
          "base_uri": "https://localhost:8080/"
        },
        "outputId": "2852e627-2b93-43f1-c3af-16652610385a"
      },
      "source": [
        "test2 = ks_2samp(CL1['r10c9'], CL3['r10c9'])\n",
        "test2"
      ],
      "execution_count": null,
      "outputs": [
        {
          "output_type": "execute_result",
          "data": {
            "text/plain": [
              "Ks_2sampResult(statistic=0.12112666480446103, pvalue=1.0)"
            ]
          },
          "metadata": {},
          "execution_count": 32
        }
      ]
    },
    {
      "cell_type": "code",
      "metadata": {
        "id": "oSIrJizLd8WM",
        "colab": {
          "base_uri": "https://localhost:8080/"
        },
        "outputId": "960f9f44-eb24-4852-f8ce-2720bca20983"
      },
      "source": [
        "test3 = ks_2samp(CL1['r10c9'], CL4['r10c9'],mode = \"asymp\")\n",
        "test3"
      ],
      "execution_count": null,
      "outputs": [
        {
          "output_type": "execute_result",
          "data": {
            "text/plain": [
              "Ks_2sampResult(statistic=0.08028594494276486, pvalue=2.4156338264614034e-10)"
            ]
          },
          "metadata": {},
          "execution_count": 33
        }
      ]
    },
    {
      "cell_type": "code",
      "metadata": {
        "id": "fNQCgnqTd8tx",
        "colab": {
          "base_uri": "https://localhost:8080/"
        },
        "outputId": "e7669d02-312a-4534-d6e2-45f54bb8bd64"
      },
      "source": [
        "test4 = ks_2samp(CL2['r10c9'], CL3['r10c9'],mode = \"asymp\")\n",
        "test4"
      ],
      "execution_count": null,
      "outputs": [
        {
          "output_type": "execute_result",
          "data": {
            "text/plain": [
              "Ks_2sampResult(statistic=0.21273428663170169, pvalue=2.0417309757475523e-85)"
            ]
          },
          "metadata": {},
          "execution_count": 34
        }
      ]
    },
    {
      "cell_type": "code",
      "metadata": {
        "id": "aHrmXsKWd9Ag",
        "colab": {
          "base_uri": "https://localhost:8080/"
        },
        "outputId": "b905292b-63ba-4f4c-b678-ac23c02364a0"
      },
      "source": [
        "test5 = ks_2samp(CL2['r10c9'], CL4['r10c9'],mode = \"asymp\")\n",
        "test5"
      ],
      "execution_count": null,
      "outputs": [
        {
          "output_type": "execute_result",
          "data": {
            "text/plain": [
              "Ks_2sampResult(statistic=0.06406269424811084, pvalue=1.9876619376369277e-07)"
            ]
          },
          "metadata": {},
          "execution_count": 35
        }
      ]
    },
    {
      "cell_type": "code",
      "metadata": {
        "id": "ZIk7yT2dd9Kk",
        "colab": {
          "base_uri": "https://localhost:8080/"
        },
        "outputId": "4dc88afc-d4af-4a23-faf3-bb4d22403246"
      },
      "source": [
        "test6 = ks_2samp(CL3['r10c9'], CL4['r10c9'],mode = \"asymp\")\n",
        "test6"
      ],
      "execution_count": null,
      "outputs": [
        {
          "output_type": "execute_result",
          "data": {
            "text/plain": [
              "Ks_2sampResult(statistic=0.15923369058173442, pvalue=4.387174691500466e-40)"
            ]
          },
          "metadata": {},
          "execution_count": 36
        }
      ]
    },
    {
      "cell_type": "markdown",
      "metadata": {
        "id": "NDfBZv-Xea7z"
      },
      "source": [
        "Based on the comparisons between the histograms of 'X210' for each class made by the Kolmogorov-Smirnov test, we see that the p-value is consistently < $\\alpha = 0.05$ value. We can conclude that there are statistical significant differences.\n"
      ]
    },
    {
      "cell_type": "markdown",
      "metadata": {
        "id": "IW8A8xYMzMcu"
      },
      "source": [
        "Taking into account the results from the T-test as well as those from the Kolmogorov-Smirnov test, we can say that the 'X210' feature DOES have strong  discriminating power for the four classes. "
      ]
    },
    {
      "cell_type": "markdown",
      "metadata": {
        "id": "PGMIuVDejTEn"
      },
      "source": [
        "#### 1.2"
      ]
    },
    {
      "cell_type": "code",
      "metadata": {
        "id": "tQfXYBGwjYxG",
        "colab": {
          "base_uri": "https://localhost:8080/"
        },
        "outputId": "98817000-515d-43fc-f708-ffe3b2d36851"
      },
      "source": [
        "corrs = data.corr()\n",
        "high_corrs = corrs.unstack().sort_values(kind=\"quicksort\")[159580:159600]\n",
        "round(high_corrs, 2)"
      ],
      "execution_count": null,
      "outputs": [
        {
          "output_type": "execute_result",
          "data": {
            "text/plain": [
              "r12c1   r11c1     0.92\n",
              "r11c1   r12c1     0.92\n",
              "r9c2    r10c2     0.92\n",
              "r10c2   r9c2      0.92\n",
              "r0c2    r0c1      0.92\n",
              "r0c1    r0c2      0.92\n",
              "r11c0   r12c0     0.92\n",
              "r12c0   r11c0     0.92\n",
              "r9c1    r10c1     0.92\n",
              "r10c1   r9c1      0.92\n",
              "r13c1   r12c1     0.92\n",
              "r12c1   r13c1     0.92\n",
              "r19c17  r19c18    0.93\n",
              "r19c18  r19c17    0.93\n",
              "r0c1    r0c0      0.93\n",
              "r0c0    r0c1      0.93\n",
              "r19c1   r19c0     0.94\n",
              "r19c0   r19c1     0.94\n",
              "r19c19  r19c18    0.94\n",
              "r19c18  r19c19    0.94\n",
              "dtype: float64"
            ]
          },
          "metadata": {},
          "execution_count": 37
        }
      ]
    },
    {
      "cell_type": "markdown",
      "metadata": {
        "id": "_HStgugVYc7d"
      },
      "source": [
        "The correlation between pix(6,13) and pix(7,13) can be read by looking at the intersection of r6c13 and r7c13 in the correlation matrix."
      ]
    },
    {
      "cell_type": "code",
      "metadata": {
        "id": "vAEPbvd9jY0Z",
        "colab": {
          "base_uri": "https://localhost:8080/"
        },
        "outputId": "8525b110-5787-4281-ea75-d432f04834ac"
      },
      "source": [
        "print(\"The correlation between pix(6,13) and pix(7,13) is \", round(corrs['r6c13']['r7c13'],2))\n",
        "print(\"The correlation between pix(6,1) and pix(6,18) is \", round(corrs['r6c1']['r6c18'],2))"
      ],
      "execution_count": null,
      "outputs": [
        {
          "output_type": "stream",
          "name": "stdout",
          "text": [
            "The correlation between pix(6,13) and pix(7,13) is  0.79\n",
            "The correlation between pix(6,1) and pix(6,18) is  0.44\n"
          ]
        }
      ]
    },
    {
      "cell_type": "markdown",
      "metadata": {
        "id": "8xATjBEPanr7"
      },
      "source": [
        "*Interpretation:*  \n",
        "The correlations between elements on the same column is greater than correlation between elements on the same row.\n"
      ]
    },
    {
      "cell_type": "markdown",
      "metadata": {
        "id": "ombMhE0djZO4"
      },
      "source": [
        "\n",
        "#### 1.3"
      ]
    },
    {
      "cell_type": "code",
      "metadata": {
        "id": "SaP_SYPajalF"
      },
      "source": [
        "#standardizing data\n",
        "from sklearn import preprocessing\n",
        "scaler = preprocessing.StandardScaler().fit(data)\n",
        "SDATA = scaler.transform(data)\n",
        "SDATA = pd.DataFrame(scaler.transform(data))"
      ],
      "execution_count": null,
      "outputs": []
    },
    {
      "cell_type": "markdown",
      "metadata": {
        "id": "HDBONPUojclz"
      },
      "source": [
        "#### 1.4"
      ]
    },
    {
      "cell_type": "code",
      "metadata": {
        "id": "_nGRO5g_jd4X",
        "colab": {
          "base_uri": "https://localhost:8080/"
        },
        "outputId": "d3fa7be3-b0b3-4b71-9b9b-001f2aadd64f"
      },
      "source": [
        "#Generate True class col vector\n",
        "TRUC = pd.concat([CL1['font'], CL2['font'], CL3['font'], CL4['font']]).reset_index(drop=True) \n",
        "TRUC"
      ],
      "execution_count": null,
      "outputs": [
        {
          "output_type": "execute_result",
          "data": {
            "text/plain": [
              "0        LUCIDA\n",
              "1        LUCIDA\n",
              "2        LUCIDA\n",
              "3        LUCIDA\n",
              "4        LUCIDA\n",
              "          ...  \n",
              "15848    TAHOMA\n",
              "15849    TAHOMA\n",
              "15850    TAHOMA\n",
              "15851    TAHOMA\n",
              "15852    TAHOMA\n",
              "Name: font, Length: 15853, dtype: object"
            ]
          },
          "metadata": {},
          "execution_count": 40
        }
      ]
    },
    {
      "cell_type": "code",
      "metadata": {
        "id": "w7435Ahljd69"
      },
      "source": [
        "bound_SDATA = pd.concat([TRUC, SDATA], axis=1, ignore_index=True)\n",
        "SCL1 = bound_SDATA[bound_SDATA[0] == 'LUCIDA']\n",
        "SCL2 = bound_SDATA[bound_SDATA[0] == 'TIMES']\n",
        "SCL3 = bound_SDATA[bound_SDATA[0] == 'FRANKLIN']\n",
        "SCL4 = bound_SDATA[bound_SDATA[0] == 'TAHOMA']\n"
      ],
      "execution_count": null,
      "outputs": []
    },
    {
      "cell_type": "markdown",
      "metadata": {
        "id": "xQZsNxCPjga2"
      },
      "source": [
        "## Part 2\n"
      ]
    },
    {
      "cell_type": "markdown",
      "metadata": {
        "id": "0B64bL9Qjgd-"
      },
      "source": [
        "#### 2.1"
      ]
    },
    {
      "cell_type": "code",
      "metadata": {
        "id": "yq13G7BWhQLR"
      },
      "source": [
        "SCL1X = SCL1.drop(columns=[0])\n",
        "SCL1Y = SCL1[0]\n",
        "SCL2X = SCL2.drop(columns=[0])\n",
        "SCL2Y = SCL2[0]\n",
        "SCL3X = SCL3.drop(columns=[0])\n",
        "SCL3Y = SCL3[0]\n",
        "SCL4X = SCL4.drop(columns=[0])\n",
        "SCL4Y = SCL4[0]"
      ],
      "execution_count": null,
      "outputs": []
    },
    {
      "cell_type": "code",
      "metadata": {
        "id": "iI5EDuRdg-Fg",
        "colab": {
          "base_uri": "https://localhost:8080/"
        },
        "outputId": "503105c4-b841-497f-e40e-56783297f82b"
      },
      "source": [
        "TRUC.unique()"
      ],
      "execution_count": null,
      "outputs": [
        {
          "output_type": "execute_result",
          "data": {
            "text/plain": [
              "array(['LUCIDA', 'TIMES', 'FRANKLIN', 'TAHOMA'], dtype=object)"
            ]
          },
          "metadata": {},
          "execution_count": 43
        }
      ]
    },
    {
      "cell_type": "code",
      "metadata": {
        "id": "1ZIu9Odmjn65"
      },
      "source": [
        "#Split into train and test sets\n",
        "from sklearn.model_selection import train_test_split\n",
        "SCL1X_train, SCL1X_test, SCL1Y_train, SCL1Y_test = train_test_split(SCL1X,SCL1Y, test_size=0.2, random_state=42)\n",
        "SCL2X_train, SCL2X_test, SCL2Y_train, SCL2Y_test = train_test_split(SCL2X,SCL2Y, test_size=0.2, random_state=42)\n",
        "SCL3X_train, SCL3X_test, SCL3Y_train, SCL3Y_test = train_test_split(SCL3X,SCL3Y, test_size=0.2, random_state=42)\n",
        "SCL4X_train, SCL4X_test, SCL4Y_train, SCL4Y_test = train_test_split(SCL4X,SCL4Y, test_size=0.2, random_state=42)\n",
        "\n",
        "#Combine training sets into one set\n",
        "x_train = pd.concat([SCL1X_train, SCL2X_train, SCL3X_train, SCL4X_train]).reset_index(drop=True)\n",
        "y_train = pd.concat([SCL1Y_train, SCL2Y_train, SCL3Y_train, SCL4Y_train]).reset_index(drop=True)\n",
        "#Combine test sets into one set\n",
        "x_test = pd.concat([SCL1X_test, SCL2X_test, SCL3X_test, SCL4X_test]).reset_index(drop = True)\n",
        "y_test = pd.concat([SCL1Y_test, SCL2Y_test, SCL3Y_test, SCL4Y_test]).reset_index(drop=True)"
      ],
      "execution_count": null,
      "outputs": []
    },
    {
      "cell_type": "code",
      "metadata": {
        "id": "PhD_59EJvZs_",
        "colab": {
          "base_uri": "https://localhost:8080/",
          "height": 439
        },
        "outputId": "bb748b44-442e-42a2-83eb-82f503092605"
      },
      "source": [
        "x_train"
      ],
      "execution_count": null,
      "outputs": [
        {
          "output_type": "execute_result",
          "data": {
            "text/html": [
              "<div>\n",
              "<style scoped>\n",
              "    .dataframe tbody tr th:only-of-type {\n",
              "        vertical-align: middle;\n",
              "    }\n",
              "\n",
              "    .dataframe tbody tr th {\n",
              "        vertical-align: top;\n",
              "    }\n",
              "\n",
              "    .dataframe thead th {\n",
              "        text-align: right;\n",
              "    }\n",
              "</style>\n",
              "<table border=\"1\" class=\"dataframe\">\n",
              "  <thead>\n",
              "    <tr style=\"text-align: right;\">\n",
              "      <th></th>\n",
              "      <th>1</th>\n",
              "      <th>2</th>\n",
              "      <th>3</th>\n",
              "      <th>4</th>\n",
              "      <th>5</th>\n",
              "      <th>6</th>\n",
              "      <th>7</th>\n",
              "      <th>8</th>\n",
              "      <th>9</th>\n",
              "      <th>10</th>\n",
              "      <th>11</th>\n",
              "      <th>12</th>\n",
              "      <th>13</th>\n",
              "      <th>14</th>\n",
              "      <th>15</th>\n",
              "      <th>16</th>\n",
              "      <th>17</th>\n",
              "      <th>18</th>\n",
              "      <th>19</th>\n",
              "      <th>20</th>\n",
              "      <th>21</th>\n",
              "      <th>22</th>\n",
              "      <th>23</th>\n",
              "      <th>24</th>\n",
              "      <th>25</th>\n",
              "      <th>26</th>\n",
              "      <th>27</th>\n",
              "      <th>28</th>\n",
              "      <th>29</th>\n",
              "      <th>30</th>\n",
              "      <th>31</th>\n",
              "      <th>32</th>\n",
              "      <th>33</th>\n",
              "      <th>34</th>\n",
              "      <th>35</th>\n",
              "      <th>36</th>\n",
              "      <th>37</th>\n",
              "      <th>38</th>\n",
              "      <th>39</th>\n",
              "      <th>40</th>\n",
              "      <th>...</th>\n",
              "      <th>361</th>\n",
              "      <th>362</th>\n",
              "      <th>363</th>\n",
              "      <th>364</th>\n",
              "      <th>365</th>\n",
              "      <th>366</th>\n",
              "      <th>367</th>\n",
              "      <th>368</th>\n",
              "      <th>369</th>\n",
              "      <th>370</th>\n",
              "      <th>371</th>\n",
              "      <th>372</th>\n",
              "      <th>373</th>\n",
              "      <th>374</th>\n",
              "      <th>375</th>\n",
              "      <th>376</th>\n",
              "      <th>377</th>\n",
              "      <th>378</th>\n",
              "      <th>379</th>\n",
              "      <th>380</th>\n",
              "      <th>381</th>\n",
              "      <th>382</th>\n",
              "      <th>383</th>\n",
              "      <th>384</th>\n",
              "      <th>385</th>\n",
              "      <th>386</th>\n",
              "      <th>387</th>\n",
              "      <th>388</th>\n",
              "      <th>389</th>\n",
              "      <th>390</th>\n",
              "      <th>391</th>\n",
              "      <th>392</th>\n",
              "      <th>393</th>\n",
              "      <th>394</th>\n",
              "      <th>395</th>\n",
              "      <th>396</th>\n",
              "      <th>397</th>\n",
              "      <th>398</th>\n",
              "      <th>399</th>\n",
              "      <th>400</th>\n",
              "    </tr>\n",
              "  </thead>\n",
              "  <tbody>\n",
              "    <tr>\n",
              "      <th>0</th>\n",
              "      <td>-0.619802</td>\n",
              "      <td>-0.681710</td>\n",
              "      <td>-0.734125</td>\n",
              "      <td>-0.781316</td>\n",
              "      <td>-0.816448</td>\n",
              "      <td>-0.882516</td>\n",
              "      <td>-0.958398</td>\n",
              "      <td>-0.995625</td>\n",
              "      <td>-0.580896</td>\n",
              "      <td>0.839405</td>\n",
              "      <td>1.059332</td>\n",
              "      <td>-1.049073</td>\n",
              "      <td>-1.069706</td>\n",
              "      <td>-1.057096</td>\n",
              "      <td>-1.005865</td>\n",
              "      <td>-0.939339</td>\n",
              "      <td>-0.883925</td>\n",
              "      <td>-0.816623</td>\n",
              "      <td>-0.298879</td>\n",
              "      <td>0.930981</td>\n",
              "      <td>-0.611224</td>\n",
              "      <td>-0.708096</td>\n",
              "      <td>-0.817782</td>\n",
              "      <td>-0.923175</td>\n",
              "      <td>-1.019796</td>\n",
              "      <td>-1.083415</td>\n",
              "      <td>-1.120751</td>\n",
              "      <td>-0.265654</td>\n",
              "      <td>0.975718</td>\n",
              "      <td>0.631052</td>\n",
              "      <td>1.024956</td>\n",
              "      <td>-1.191996</td>\n",
              "      <td>-1.232482</td>\n",
              "      <td>-1.230325</td>\n",
              "      <td>-1.207828</td>\n",
              "      <td>-1.159422</td>\n",
              "      <td>-1.063823</td>\n",
              "      <td>-0.919368</td>\n",
              "      <td>0.741968</td>\n",
              "      <td>-0.051384</td>\n",
              "      <td>...</td>\n",
              "      <td>-0.717857</td>\n",
              "      <td>-0.874608</td>\n",
              "      <td>-1.050328</td>\n",
              "      <td>-1.212799</td>\n",
              "      <td>-1.244848</td>\n",
              "      <td>-1.239703</td>\n",
              "      <td>-0.970164</td>\n",
              "      <td>0.855823</td>\n",
              "      <td>-0.352173</td>\n",
              "      <td>0.605148</td>\n",
              "      <td>-0.995020</td>\n",
              "      <td>-1.188011</td>\n",
              "      <td>-1.170787</td>\n",
              "      <td>-1.182633</td>\n",
              "      <td>-1.166042</td>\n",
              "      <td>-1.128180</td>\n",
              "      <td>-1.063536</td>\n",
              "      <td>-0.934126</td>\n",
              "      <td>-0.781564</td>\n",
              "      <td>-0.651499</td>\n",
              "      <td>-0.753575</td>\n",
              "      <td>-0.816648</td>\n",
              "      <td>-0.895706</td>\n",
              "      <td>-0.954807</td>\n",
              "      <td>-0.996596</td>\n",
              "      <td>-1.084717</td>\n",
              "      <td>-1.166407</td>\n",
              "      <td>-0.290025</td>\n",
              "      <td>0.892655</td>\n",
              "      <td>-0.313214</td>\n",
              "      <td>-1.204632</td>\n",
              "      <td>-1.134195</td>\n",
              "      <td>-1.069231</td>\n",
              "      <td>-1.038026</td>\n",
              "      <td>-0.950833</td>\n",
              "      <td>-0.861545</td>\n",
              "      <td>-0.833613</td>\n",
              "      <td>-0.781976</td>\n",
              "      <td>-0.722911</td>\n",
              "      <td>-0.662971</td>\n",
              "    </tr>\n",
              "    <tr>\n",
              "      <th>1</th>\n",
              "      <td>0.877219</td>\n",
              "      <td>1.486283</td>\n",
              "      <td>1.550029</td>\n",
              "      <td>1.486280</td>\n",
              "      <td>1.460860</td>\n",
              "      <td>1.382672</td>\n",
              "      <td>0.261418</td>\n",
              "      <td>-0.702608</td>\n",
              "      <td>-1.051169</td>\n",
              "      <td>-1.089301</td>\n",
              "      <td>-1.103436</td>\n",
              "      <td>-1.092335</td>\n",
              "      <td>-1.069706</td>\n",
              "      <td>-1.057096</td>\n",
              "      <td>-1.005865</td>\n",
              "      <td>-0.743797</td>\n",
              "      <td>0.483083</td>\n",
              "      <td>0.544953</td>\n",
              "      <td>-0.380117</td>\n",
              "      <td>-0.658981</td>\n",
              "      <td>1.842559</td>\n",
              "      <td>0.817575</td>\n",
              "      <td>-0.060121</td>\n",
              "      <td>-0.527058</td>\n",
              "      <td>-0.095020</td>\n",
              "      <td>0.946843</td>\n",
              "      <td>1.108466</td>\n",
              "      <td>0.598261</td>\n",
              "      <td>-1.181219</td>\n",
              "      <td>-1.188180</td>\n",
              "      <td>-1.210961</td>\n",
              "      <td>-1.236628</td>\n",
              "      <td>-1.232482</td>\n",
              "      <td>-1.230325</td>\n",
              "      <td>-1.190277</td>\n",
              "      <td>0.152636</td>\n",
              "      <td>1.180353</td>\n",
              "      <td>0.899330</td>\n",
              "      <td>-0.772616</td>\n",
              "      <td>-0.634890</td>\n",
              "      <td>...</td>\n",
              "      <td>-0.717857</td>\n",
              "      <td>-0.874608</td>\n",
              "      <td>-0.468143</td>\n",
              "      <td>1.034812</td>\n",
              "      <td>0.746299</td>\n",
              "      <td>-1.014262</td>\n",
              "      <td>-1.241171</td>\n",
              "      <td>-1.211204</td>\n",
              "      <td>-1.224068</td>\n",
              "      <td>-1.229067</td>\n",
              "      <td>-1.212769</td>\n",
              "      <td>-1.188011</td>\n",
              "      <td>-1.170787</td>\n",
              "      <td>-1.182633</td>\n",
              "      <td>-0.406990</td>\n",
              "      <td>0.149695</td>\n",
              "      <td>1.178529</td>\n",
              "      <td>1.304589</td>\n",
              "      <td>0.914366</td>\n",
              "      <td>0.733424</td>\n",
              "      <td>-0.753575</td>\n",
              "      <td>-0.468535</td>\n",
              "      <td>1.115941</td>\n",
              "      <td>1.260166</td>\n",
              "      <td>-0.258041</td>\n",
              "      <td>-1.084717</td>\n",
              "      <td>-1.166407</td>\n",
              "      <td>-1.195171</td>\n",
              "      <td>-1.224319</td>\n",
              "      <td>-1.240969</td>\n",
              "      <td>-1.204632</td>\n",
              "      <td>-1.134195</td>\n",
              "      <td>-1.069231</td>\n",
              "      <td>-1.038026</td>\n",
              "      <td>-0.100056</td>\n",
              "      <td>0.547015</td>\n",
              "      <td>0.560232</td>\n",
              "      <td>0.592013</td>\n",
              "      <td>0.679816</td>\n",
              "      <td>0.801621</td>\n",
              "    </tr>\n",
              "    <tr>\n",
              "      <th>2</th>\n",
              "      <td>-0.619802</td>\n",
              "      <td>-0.681710</td>\n",
              "      <td>-0.734125</td>\n",
              "      <td>-0.781316</td>\n",
              "      <td>-0.816448</td>\n",
              "      <td>-0.195826</td>\n",
              "      <td>0.839702</td>\n",
              "      <td>1.259718</td>\n",
              "      <td>1.082476</td>\n",
              "      <td>0.376516</td>\n",
              "      <td>-0.200863</td>\n",
              "      <td>-0.979854</td>\n",
              "      <td>-0.461667</td>\n",
              "      <td>1.237993</td>\n",
              "      <td>0.498744</td>\n",
              "      <td>-0.939339</td>\n",
              "      <td>-0.883925</td>\n",
              "      <td>-0.816623</td>\n",
              "      <td>-0.741177</td>\n",
              "      <td>-0.658981</td>\n",
              "      <td>-0.611224</td>\n",
              "      <td>-0.708096</td>\n",
              "      <td>-0.817782</td>\n",
              "      <td>-0.923175</td>\n",
              "      <td>-0.931722</td>\n",
              "      <td>0.659295</td>\n",
              "      <td>1.090914</td>\n",
              "      <td>0.377875</td>\n",
              "      <td>0.673924</td>\n",
              "      <td>0.991383</td>\n",
              "      <td>1.024956</td>\n",
              "      <td>1.030656</td>\n",
              "      <td>1.016063</td>\n",
              "      <td>1.002197</td>\n",
              "      <td>-0.733945</td>\n",
              "      <td>-1.159422</td>\n",
              "      <td>-1.063823</td>\n",
              "      <td>-0.928197</td>\n",
              "      <td>-0.772616</td>\n",
              "      <td>-0.634890</td>\n",
              "      <td>...</td>\n",
              "      <td>-0.717857</td>\n",
              "      <td>-0.874608</td>\n",
              "      <td>-1.032950</td>\n",
              "      <td>-0.484325</td>\n",
              "      <td>0.684626</td>\n",
              "      <td>0.962675</td>\n",
              "      <td>0.979344</td>\n",
              "      <td>0.952167</td>\n",
              "      <td>0.211476</td>\n",
              "      <td>0.194634</td>\n",
              "      <td>0.206953</td>\n",
              "      <td>0.247098</td>\n",
              "      <td>1.005739</td>\n",
              "      <td>1.055906</td>\n",
              "      <td>1.050040</td>\n",
              "      <td>0.801851</td>\n",
              "      <td>-0.339720</td>\n",
              "      <td>-0.916498</td>\n",
              "      <td>-0.781564</td>\n",
              "      <td>-0.651499</td>\n",
              "      <td>-0.753575</td>\n",
              "      <td>-0.816648</td>\n",
              "      <td>-0.895706</td>\n",
              "      <td>-0.954807</td>\n",
              "      <td>-0.979012</td>\n",
              "      <td>-0.559137</td>\n",
              "      <td>0.201497</td>\n",
              "      <td>0.632696</td>\n",
              "      <td>0.970421</td>\n",
              "      <td>0.940973</td>\n",
              "      <td>0.973187</td>\n",
              "      <td>1.066345</td>\n",
              "      <td>0.773587</td>\n",
              "      <td>0.362630</td>\n",
              "      <td>-0.411093</td>\n",
              "      <td>-0.843370</td>\n",
              "      <td>-0.833613</td>\n",
              "      <td>-0.781976</td>\n",
              "      <td>-0.722911</td>\n",
              "      <td>-0.662971</td>\n",
              "    </tr>\n",
              "    <tr>\n",
              "      <th>3</th>\n",
              "      <td>-0.619802</td>\n",
              "      <td>-0.681710</td>\n",
              "      <td>-0.734125</td>\n",
              "      <td>-0.781316</td>\n",
              "      <td>-0.816448</td>\n",
              "      <td>-0.882516</td>\n",
              "      <td>-0.958398</td>\n",
              "      <td>-0.995625</td>\n",
              "      <td>-1.051169</td>\n",
              "      <td>-1.089301</td>\n",
              "      <td>-1.103436</td>\n",
              "      <td>-1.092335</td>\n",
              "      <td>-1.069706</td>\n",
              "      <td>-1.057096</td>\n",
              "      <td>0.256932</td>\n",
              "      <td>0.313908</td>\n",
              "      <td>-0.883925</td>\n",
              "      <td>-0.816623</td>\n",
              "      <td>-0.741177</td>\n",
              "      <td>-0.658981</td>\n",
              "      <td>-0.611224</td>\n",
              "      <td>-0.708096</td>\n",
              "      <td>-0.817782</td>\n",
              "      <td>-0.923175</td>\n",
              "      <td>-1.019796</td>\n",
              "      <td>-1.083415</td>\n",
              "      <td>-1.120751</td>\n",
              "      <td>-1.138384</td>\n",
              "      <td>-1.181219</td>\n",
              "      <td>-1.188180</td>\n",
              "      <td>-1.210961</td>\n",
              "      <td>-1.236628</td>\n",
              "      <td>-0.648214</td>\n",
              "      <td>-0.480268</td>\n",
              "      <td>0.363008</td>\n",
              "      <td>0.090579</td>\n",
              "      <td>-1.063823</td>\n",
              "      <td>-0.928197</td>\n",
              "      <td>-0.772616</td>\n",
              "      <td>-0.634890</td>\n",
              "      <td>...</td>\n",
              "      <td>0.848576</td>\n",
              "      <td>1.274104</td>\n",
              "      <td>1.156762</td>\n",
              "      <td>1.043695</td>\n",
              "      <td>0.164814</td>\n",
              "      <td>-0.832176</td>\n",
              "      <td>-1.241171</td>\n",
              "      <td>-1.211204</td>\n",
              "      <td>-1.224068</td>\n",
              "      <td>-1.229067</td>\n",
              "      <td>-1.212769</td>\n",
              "      <td>-1.188011</td>\n",
              "      <td>-1.170787</td>\n",
              "      <td>-1.182633</td>\n",
              "      <td>-0.755980</td>\n",
              "      <td>0.281889</td>\n",
              "      <td>0.684215</td>\n",
              "      <td>-0.352412</td>\n",
              "      <td>-0.781564</td>\n",
              "      <td>-0.651499</td>\n",
              "      <td>1.521973</td>\n",
              "      <td>1.393868</td>\n",
              "      <td>1.297249</td>\n",
              "      <td>1.260166</td>\n",
              "      <td>-0.003064</td>\n",
              "      <td>-1.084717</td>\n",
              "      <td>-1.166407</td>\n",
              "      <td>-1.195171</td>\n",
              "      <td>-1.224319</td>\n",
              "      <td>-1.240969</td>\n",
              "      <td>-1.204632</td>\n",
              "      <td>-1.134195</td>\n",
              "      <td>-1.069231</td>\n",
              "      <td>-1.038026</td>\n",
              "      <td>-0.950833</td>\n",
              "      <td>0.165341</td>\n",
              "      <td>0.695120</td>\n",
              "      <td>-0.781976</td>\n",
              "      <td>-0.722911</td>\n",
              "      <td>-0.662971</td>\n",
              "    </tr>\n",
              "    <tr>\n",
              "      <th>4</th>\n",
              "      <td>1.833380</td>\n",
              "      <td>1.661568</td>\n",
              "      <td>1.550029</td>\n",
              "      <td>1.486280</td>\n",
              "      <td>1.460860</td>\n",
              "      <td>1.382672</td>\n",
              "      <td>1.336664</td>\n",
              "      <td>1.259718</td>\n",
              "      <td>1.160854</td>\n",
              "      <td>1.087994</td>\n",
              "      <td>1.059332</td>\n",
              "      <td>0.975581</td>\n",
              "      <td>0.102312</td>\n",
              "      <td>0.144663</td>\n",
              "      <td>-0.495373</td>\n",
              "      <td>-0.939339</td>\n",
              "      <td>-0.883925</td>\n",
              "      <td>-0.816623</td>\n",
              "      <td>-0.741177</td>\n",
              "      <td>-0.658981</td>\n",
              "      <td>1.842559</td>\n",
              "      <td>1.612385</td>\n",
              "      <td>1.446288</td>\n",
              "      <td>1.312684</td>\n",
              "      <td>1.217282</td>\n",
              "      <td>1.129827</td>\n",
              "      <td>1.108466</td>\n",
              "      <td>1.100742</td>\n",
              "      <td>1.073357</td>\n",
              "      <td>1.044115</td>\n",
              "      <td>1.024956</td>\n",
              "      <td>1.030656</td>\n",
              "      <td>1.016063</td>\n",
              "      <td>1.011022</td>\n",
              "      <td>1.021179</td>\n",
              "      <td>-0.272896</td>\n",
              "      <td>-1.010811</td>\n",
              "      <td>-0.928197</td>\n",
              "      <td>-0.772616</td>\n",
              "      <td>-0.634890</td>\n",
              "      <td>...</td>\n",
              "      <td>1.622578</td>\n",
              "      <td>1.353037</td>\n",
              "      <td>1.156762</td>\n",
              "      <td>0.484014</td>\n",
              "      <td>-1.244848</td>\n",
              "      <td>-1.239703</td>\n",
              "      <td>-1.241171</td>\n",
              "      <td>-1.211204</td>\n",
              "      <td>-1.224068</td>\n",
              "      <td>-1.229067</td>\n",
              "      <td>-1.212769</td>\n",
              "      <td>-1.188011</td>\n",
              "      <td>-1.170787</td>\n",
              "      <td>-0.865360</td>\n",
              "      <td>0.701051</td>\n",
              "      <td>1.110304</td>\n",
              "      <td>1.178529</td>\n",
              "      <td>1.304589</td>\n",
              "      <td>1.039991</td>\n",
              "      <td>-0.269451</td>\n",
              "      <td>1.521973</td>\n",
              "      <td>1.393868</td>\n",
              "      <td>1.297249</td>\n",
              "      <td>0.710783</td>\n",
              "      <td>-0.996596</td>\n",
              "      <td>-1.084717</td>\n",
              "      <td>-1.166407</td>\n",
              "      <td>-1.195171</td>\n",
              "      <td>-1.224319</td>\n",
              "      <td>-1.240969</td>\n",
              "      <td>-1.204632</td>\n",
              "      <td>-1.134195</td>\n",
              "      <td>-1.069231</td>\n",
              "      <td>-1.038026</td>\n",
              "      <td>-0.886796</td>\n",
              "      <td>0.765115</td>\n",
              "      <td>1.450494</td>\n",
              "      <td>1.469593</td>\n",
              "      <td>1.575752</td>\n",
              "      <td>1.670927</td>\n",
              "    </tr>\n",
              "    <tr>\n",
              "      <th>...</th>\n",
              "      <td>...</td>\n",
              "      <td>...</td>\n",
              "      <td>...</td>\n",
              "      <td>...</td>\n",
              "      <td>...</td>\n",
              "      <td>...</td>\n",
              "      <td>...</td>\n",
              "      <td>...</td>\n",
              "      <td>...</td>\n",
              "      <td>...</td>\n",
              "      <td>...</td>\n",
              "      <td>...</td>\n",
              "      <td>...</td>\n",
              "      <td>...</td>\n",
              "      <td>...</td>\n",
              "      <td>...</td>\n",
              "      <td>...</td>\n",
              "      <td>...</td>\n",
              "      <td>...</td>\n",
              "      <td>...</td>\n",
              "      <td>...</td>\n",
              "      <td>...</td>\n",
              "      <td>...</td>\n",
              "      <td>...</td>\n",
              "      <td>...</td>\n",
              "      <td>...</td>\n",
              "      <td>...</td>\n",
              "      <td>...</td>\n",
              "      <td>...</td>\n",
              "      <td>...</td>\n",
              "      <td>...</td>\n",
              "      <td>...</td>\n",
              "      <td>...</td>\n",
              "      <td>...</td>\n",
              "      <td>...</td>\n",
              "      <td>...</td>\n",
              "      <td>...</td>\n",
              "      <td>...</td>\n",
              "      <td>...</td>\n",
              "      <td>...</td>\n",
              "      <td>...</td>\n",
              "      <td>...</td>\n",
              "      <td>...</td>\n",
              "      <td>...</td>\n",
              "      <td>...</td>\n",
              "      <td>...</td>\n",
              "      <td>...</td>\n",
              "      <td>...</td>\n",
              "      <td>...</td>\n",
              "      <td>...</td>\n",
              "      <td>...</td>\n",
              "      <td>...</td>\n",
              "      <td>...</td>\n",
              "      <td>...</td>\n",
              "      <td>...</td>\n",
              "      <td>...</td>\n",
              "      <td>...</td>\n",
              "      <td>...</td>\n",
              "      <td>...</td>\n",
              "      <td>...</td>\n",
              "      <td>...</td>\n",
              "      <td>...</td>\n",
              "      <td>...</td>\n",
              "      <td>...</td>\n",
              "      <td>...</td>\n",
              "      <td>...</td>\n",
              "      <td>...</td>\n",
              "      <td>...</td>\n",
              "      <td>...</td>\n",
              "      <td>...</td>\n",
              "      <td>...</td>\n",
              "      <td>...</td>\n",
              "      <td>...</td>\n",
              "      <td>...</td>\n",
              "      <td>...</td>\n",
              "      <td>...</td>\n",
              "      <td>...</td>\n",
              "      <td>...</td>\n",
              "      <td>...</td>\n",
              "      <td>...</td>\n",
              "      <td>...</td>\n",
              "    </tr>\n",
              "    <tr>\n",
              "      <th>12676</th>\n",
              "      <td>-0.059626</td>\n",
              "      <td>1.661568</td>\n",
              "      <td>1.550029</td>\n",
              "      <td>1.486280</td>\n",
              "      <td>1.460860</td>\n",
              "      <td>1.382672</td>\n",
              "      <td>1.336664</td>\n",
              "      <td>1.259718</td>\n",
              "      <td>1.160854</td>\n",
              "      <td>1.087994</td>\n",
              "      <td>1.059332</td>\n",
              "      <td>1.105367</td>\n",
              "      <td>1.168583</td>\n",
              "      <td>1.237993</td>\n",
              "      <td>1.268960</td>\n",
              "      <td>1.318283</td>\n",
              "      <td>1.356204</td>\n",
              "      <td>1.414605</td>\n",
              "      <td>1.551552</td>\n",
              "      <td>1.744890</td>\n",
              "      <td>-0.050912</td>\n",
              "      <td>1.612385</td>\n",
              "      <td>1.446288</td>\n",
              "      <td>1.312684</td>\n",
              "      <td>1.217282</td>\n",
              "      <td>1.129827</td>\n",
              "      <td>1.108466</td>\n",
              "      <td>1.100742</td>\n",
              "      <td>1.073357</td>\n",
              "      <td>1.044115</td>\n",
              "      <td>1.024956</td>\n",
              "      <td>1.030656</td>\n",
              "      <td>1.016063</td>\n",
              "      <td>1.011022</td>\n",
              "      <td>1.021179</td>\n",
              "      <td>1.092353</td>\n",
              "      <td>1.180353</td>\n",
              "      <td>1.314276</td>\n",
              "      <td>1.531003</td>\n",
              "      <td>1.835287</td>\n",
              "      <td>...</td>\n",
              "      <td>-0.183427</td>\n",
              "      <td>1.353037</td>\n",
              "      <td>1.156762</td>\n",
              "      <td>1.043695</td>\n",
              "      <td>0.992990</td>\n",
              "      <td>0.962675</td>\n",
              "      <td>0.979344</td>\n",
              "      <td>1.013477</td>\n",
              "      <td>1.012914</td>\n",
              "      <td>0.989460</td>\n",
              "      <td>0.999559</td>\n",
              "      <td>1.048293</td>\n",
              "      <td>1.067422</td>\n",
              "      <td>1.055906</td>\n",
              "      <td>1.050040</td>\n",
              "      <td>1.110304</td>\n",
              "      <td>1.178529</td>\n",
              "      <td>1.304589</td>\n",
              "      <td>1.497623</td>\n",
              "      <td>1.774503</td>\n",
              "      <td>-0.233962</td>\n",
              "      <td>1.393868</td>\n",
              "      <td>1.297249</td>\n",
              "      <td>1.260166</td>\n",
              "      <td>1.236653</td>\n",
              "      <td>1.177946</td>\n",
              "      <td>1.119432</td>\n",
              "      <td>1.036936</td>\n",
              "      <td>0.970421</td>\n",
              "      <td>0.940973</td>\n",
              "      <td>0.973187</td>\n",
              "      <td>1.066345</td>\n",
              "      <td>1.181133</td>\n",
              "      <td>1.302543</td>\n",
              "      <td>1.372793</td>\n",
              "      <td>1.446677</td>\n",
              "      <td>1.450494</td>\n",
              "      <td>1.469593</td>\n",
              "      <td>1.575752</td>\n",
              "      <td>1.737070</td>\n",
              "    </tr>\n",
              "    <tr>\n",
              "      <th>12677</th>\n",
              "      <td>1.833380</td>\n",
              "      <td>1.661568</td>\n",
              "      <td>1.550029</td>\n",
              "      <td>1.236309</td>\n",
              "      <td>-0.816448</td>\n",
              "      <td>-0.882516</td>\n",
              "      <td>-0.958398</td>\n",
              "      <td>-0.995625</td>\n",
              "      <td>-1.051169</td>\n",
              "      <td>-1.089301</td>\n",
              "      <td>-1.103436</td>\n",
              "      <td>-1.092335</td>\n",
              "      <td>-1.069706</td>\n",
              "      <td>-1.057096</td>\n",
              "      <td>-1.005865</td>\n",
              "      <td>-0.939339</td>\n",
              "      <td>1.109261</td>\n",
              "      <td>1.414605</td>\n",
              "      <td>1.551552</td>\n",
              "      <td>1.744890</td>\n",
              "      <td>1.842559</td>\n",
              "      <td>1.612385</td>\n",
              "      <td>1.446288</td>\n",
              "      <td>1.066212</td>\n",
              "      <td>-1.019796</td>\n",
              "      <td>-1.083415</td>\n",
              "      <td>-1.120751</td>\n",
              "      <td>-1.138384</td>\n",
              "      <td>-1.181219</td>\n",
              "      <td>-1.188180</td>\n",
              "      <td>-1.210961</td>\n",
              "      <td>-1.236628</td>\n",
              "      <td>-1.232482</td>\n",
              "      <td>-1.230325</td>\n",
              "      <td>-1.207828</td>\n",
              "      <td>-1.159422</td>\n",
              "      <td>0.932963</td>\n",
              "      <td>1.314276</td>\n",
              "      <td>1.531003</td>\n",
              "      <td>1.835287</td>\n",
              "      <td>...</td>\n",
              "      <td>-0.717857</td>\n",
              "      <td>-0.874608</td>\n",
              "      <td>-1.050328</td>\n",
              "      <td>-1.212799</td>\n",
              "      <td>-0.037825</td>\n",
              "      <td>0.893309</td>\n",
              "      <td>0.909406</td>\n",
              "      <td>0.943409</td>\n",
              "      <td>-0.501893</td>\n",
              "      <td>-1.229067</td>\n",
              "      <td>-1.212769</td>\n",
              "      <td>-0.466054</td>\n",
              "      <td>0.996927</td>\n",
              "      <td>0.985401</td>\n",
              "      <td>0.980242</td>\n",
              "      <td>0.079191</td>\n",
              "      <td>-1.063536</td>\n",
              "      <td>-0.934126</td>\n",
              "      <td>-0.781564</td>\n",
              "      <td>-0.651499</td>\n",
              "      <td>-0.753575</td>\n",
              "      <td>-0.816648</td>\n",
              "      <td>-0.895706</td>\n",
              "      <td>-0.954807</td>\n",
              "      <td>0.243121</td>\n",
              "      <td>1.177946</td>\n",
              "      <td>1.119432</td>\n",
              "      <td>1.036936</td>\n",
              "      <td>-0.489859</td>\n",
              "      <td>-1.240969</td>\n",
              "      <td>-1.204632</td>\n",
              "      <td>-0.397794</td>\n",
              "      <td>1.181133</td>\n",
              "      <td>1.302543</td>\n",
              "      <td>1.372793</td>\n",
              "      <td>0.419791</td>\n",
              "      <td>-0.833613</td>\n",
              "      <td>-0.781976</td>\n",
              "      <td>-0.722911</td>\n",
              "      <td>-0.662971</td>\n",
              "    </tr>\n",
              "    <tr>\n",
              "      <th>12678</th>\n",
              "      <td>1.833380</td>\n",
              "      <td>1.661568</td>\n",
              "      <td>1.550029</td>\n",
              "      <td>1.147034</td>\n",
              "      <td>-0.359193</td>\n",
              "      <td>0.089552</td>\n",
              "      <td>1.336664</td>\n",
              "      <td>1.259718</td>\n",
              "      <td>1.160854</td>\n",
              "      <td>1.087994</td>\n",
              "      <td>1.059332</td>\n",
              "      <td>1.105367</td>\n",
              "      <td>1.168583</td>\n",
              "      <td>0.018162</td>\n",
              "      <td>-0.549109</td>\n",
              "      <td>-0.832680</td>\n",
              "      <td>-0.883925</td>\n",
              "      <td>-0.816623</td>\n",
              "      <td>-0.741177</td>\n",
              "      <td>-0.658981</td>\n",
              "      <td>1.842559</td>\n",
              "      <td>1.612385</td>\n",
              "      <td>1.446288</td>\n",
              "      <td>1.312684</td>\n",
              "      <td>1.217282</td>\n",
              "      <td>1.129827</td>\n",
              "      <td>1.108466</td>\n",
              "      <td>1.100742</td>\n",
              "      <td>1.073357</td>\n",
              "      <td>1.044115</td>\n",
              "      <td>1.024956</td>\n",
              "      <td>1.030656</td>\n",
              "      <td>1.016063</td>\n",
              "      <td>1.011022</td>\n",
              "      <td>1.021179</td>\n",
              "      <td>0.063983</td>\n",
              "      <td>-0.895952</td>\n",
              "      <td>-0.928197</td>\n",
              "      <td>-0.772616</td>\n",
              "      <td>-0.634890</td>\n",
              "      <td>...</td>\n",
              "      <td>1.622578</td>\n",
              "      <td>1.353037</td>\n",
              "      <td>1.156762</td>\n",
              "      <td>0.786064</td>\n",
              "      <td>-0.346189</td>\n",
              "      <td>0.017560</td>\n",
              "      <td>0.979344</td>\n",
              "      <td>1.013477</td>\n",
              "      <td>1.012914</td>\n",
              "      <td>0.989460</td>\n",
              "      <td>0.999559</td>\n",
              "      <td>1.048293</td>\n",
              "      <td>1.067422</td>\n",
              "      <td>1.055906</td>\n",
              "      <td>1.050040</td>\n",
              "      <td>1.110304</td>\n",
              "      <td>0.092804</td>\n",
              "      <td>-0.810732</td>\n",
              "      <td>-0.781564</td>\n",
              "      <td>-0.651499</td>\n",
              "      <td>1.521973</td>\n",
              "      <td>1.393868</td>\n",
              "      <td>1.297249</td>\n",
              "      <td>0.841589</td>\n",
              "      <td>-0.996596</td>\n",
              "      <td>-0.960003</td>\n",
              "      <td>-0.707440</td>\n",
              "      <td>-0.070330</td>\n",
              "      <td>0.970421</td>\n",
              "      <td>0.940973</td>\n",
              "      <td>0.973187</td>\n",
              "      <td>1.066345</td>\n",
              "      <td>1.181133</td>\n",
              "      <td>1.302543</td>\n",
              "      <td>0.046314</td>\n",
              "      <td>-0.398083</td>\n",
              "      <td>-0.752680</td>\n",
              "      <td>-0.781976</td>\n",
              "      <td>-0.722911</td>\n",
              "      <td>-0.662971</td>\n",
              "    </tr>\n",
              "    <tr>\n",
              "      <th>12679</th>\n",
              "      <td>-0.561853</td>\n",
              "      <td>0.406899</td>\n",
              "      <td>1.424131</td>\n",
              "      <td>1.486280</td>\n",
              "      <td>1.398100</td>\n",
              "      <td>0.687063</td>\n",
              "      <td>-0.280722</td>\n",
              "      <td>-0.942349</td>\n",
              "      <td>-1.051169</td>\n",
              "      <td>-0.377823</td>\n",
              "      <td>1.059332</td>\n",
              "      <td>0.871753</td>\n",
              "      <td>-1.069706</td>\n",
              "      <td>-1.057096</td>\n",
              "      <td>-1.005865</td>\n",
              "      <td>-0.939339</td>\n",
              "      <td>-0.883925</td>\n",
              "      <td>-0.816623</td>\n",
              "      <td>-0.741177</td>\n",
              "      <td>-0.658981</td>\n",
              "      <td>0.992430</td>\n",
              "      <td>1.612385</td>\n",
              "      <td>0.857987</td>\n",
              "      <td>-0.271783</td>\n",
              "      <td>-0.050983</td>\n",
              "      <td>0.737717</td>\n",
              "      <td>1.108466</td>\n",
              "      <td>0.827463</td>\n",
              "      <td>0.540780</td>\n",
              "      <td>1.035326</td>\n",
              "      <td>1.024956</td>\n",
              "      <td>-0.460038</td>\n",
              "      <td>-1.232482</td>\n",
              "      <td>-1.230325</td>\n",
              "      <td>-1.207828</td>\n",
              "      <td>-1.159422</td>\n",
              "      <td>-1.063823</td>\n",
              "      <td>-0.928197</td>\n",
              "      <td>-0.772616</td>\n",
              "      <td>-0.634890</td>\n",
              "      <td>...</td>\n",
              "      <td>-0.717857</td>\n",
              "      <td>-0.874608</td>\n",
              "      <td>-1.050328</td>\n",
              "      <td>-1.212799</td>\n",
              "      <td>-1.244848</td>\n",
              "      <td>-1.239703</td>\n",
              "      <td>-1.241171</td>\n",
              "      <td>-1.211204</td>\n",
              "      <td>-1.224068</td>\n",
              "      <td>-0.739943</td>\n",
              "      <td>0.999559</td>\n",
              "      <td>1.048293</td>\n",
              "      <td>-0.175049</td>\n",
              "      <td>-1.182633</td>\n",
              "      <td>-1.166042</td>\n",
              "      <td>-1.128180</td>\n",
              "      <td>-1.063536</td>\n",
              "      <td>-0.934126</td>\n",
              "      <td>-0.781564</td>\n",
              "      <td>-0.651499</td>\n",
              "      <td>-0.753575</td>\n",
              "      <td>-0.816648</td>\n",
              "      <td>-0.895706</td>\n",
              "      <td>-0.954807</td>\n",
              "      <td>-0.996596</td>\n",
              "      <td>-1.084717</td>\n",
              "      <td>-1.166407</td>\n",
              "      <td>-1.195171</td>\n",
              "      <td>-1.224319</td>\n",
              "      <td>-0.021143</td>\n",
              "      <td>0.973187</td>\n",
              "      <td>1.066345</td>\n",
              "      <td>0.693849</td>\n",
              "      <td>-1.038026</td>\n",
              "      <td>-0.950833</td>\n",
              "      <td>-0.861545</td>\n",
              "      <td>-0.833613</td>\n",
              "      <td>-0.781976</td>\n",
              "      <td>-0.722911</td>\n",
              "      <td>-0.662971</td>\n",
              "    </tr>\n",
              "    <tr>\n",
              "      <th>12680</th>\n",
              "      <td>-0.619802</td>\n",
              "      <td>0.563733</td>\n",
              "      <td>0.479894</td>\n",
              "      <td>-0.781316</td>\n",
              "      <td>-0.816448</td>\n",
              "      <td>-0.882516</td>\n",
              "      <td>-0.958398</td>\n",
              "      <td>-0.995625</td>\n",
              "      <td>-1.051169</td>\n",
              "      <td>-1.089301</td>\n",
              "      <td>-1.103436</td>\n",
              "      <td>-1.092335</td>\n",
              "      <td>-1.069706</td>\n",
              "      <td>-1.057096</td>\n",
              "      <td>-1.005865</td>\n",
              "      <td>-0.939339</td>\n",
              "      <td>-0.883925</td>\n",
              "      <td>0.369266</td>\n",
              "      <td>0.477400</td>\n",
              "      <td>-0.658981</td>\n",
              "      <td>0.692952</td>\n",
              "      <td>1.566706</td>\n",
              "      <td>1.401720</td>\n",
              "      <td>0.265176</td>\n",
              "      <td>-1.019796</td>\n",
              "      <td>-1.083415</td>\n",
              "      <td>-1.120751</td>\n",
              "      <td>-1.138384</td>\n",
              "      <td>-1.181219</td>\n",
              "      <td>-1.188180</td>\n",
              "      <td>-1.210961</td>\n",
              "      <td>-1.236628</td>\n",
              "      <td>-1.232482</td>\n",
              "      <td>-1.230325</td>\n",
              "      <td>-1.207828</td>\n",
              "      <td>-1.159422</td>\n",
              "      <td>0.128948</td>\n",
              "      <td>1.270132</td>\n",
              "      <td>1.485657</td>\n",
              "      <td>0.677999</td>\n",
              "      <td>...</td>\n",
              "      <td>0.526075</td>\n",
              "      <td>1.309185</td>\n",
              "      <td>1.113316</td>\n",
              "      <td>-0.013481</td>\n",
              "      <td>-1.244848</td>\n",
              "      <td>-1.239703</td>\n",
              "      <td>-1.241171</td>\n",
              "      <td>-1.211204</td>\n",
              "      <td>-1.224068</td>\n",
              "      <td>-1.229067</td>\n",
              "      <td>-1.212769</td>\n",
              "      <td>-1.188011</td>\n",
              "      <td>-1.170787</td>\n",
              "      <td>-1.182633</td>\n",
              "      <td>-1.166042</td>\n",
              "      <td>-1.128180</td>\n",
              "      <td>0.128112</td>\n",
              "      <td>1.260520</td>\n",
              "      <td>1.452757</td>\n",
              "      <td>0.637912</td>\n",
              "      <td>-0.753575</td>\n",
              "      <td>0.358233</td>\n",
              "      <td>0.269841</td>\n",
              "      <td>-0.954807</td>\n",
              "      <td>-0.996596</td>\n",
              "      <td>-1.084717</td>\n",
              "      <td>-1.166407</td>\n",
              "      <td>-1.195171</td>\n",
              "      <td>-1.224319</td>\n",
              "      <td>-1.240969</td>\n",
              "      <td>-1.204632</td>\n",
              "      <td>-1.134195</td>\n",
              "      <td>-1.069231</td>\n",
              "      <td>-1.038026</td>\n",
              "      <td>-0.950833</td>\n",
              "      <td>-0.861545</td>\n",
              "      <td>-0.833613</td>\n",
              "      <td>0.414724</td>\n",
              "      <td>0.498819</td>\n",
              "      <td>-0.662971</td>\n",
              "    </tr>\n",
              "  </tbody>\n",
              "</table>\n",
              "<p>12681 rows × 400 columns</p>\n",
              "</div>"
            ],
            "text/plain": [
              "            1         2         3    ...       398       399       400\n",
              "0     -0.619802 -0.681710 -0.734125  ... -0.781976 -0.722911 -0.662971\n",
              "1      0.877219  1.486283  1.550029  ...  0.592013  0.679816  0.801621\n",
              "2     -0.619802 -0.681710 -0.734125  ... -0.781976 -0.722911 -0.662971\n",
              "3     -0.619802 -0.681710 -0.734125  ... -0.781976 -0.722911 -0.662971\n",
              "4      1.833380  1.661568  1.550029  ...  1.469593  1.575752  1.670927\n",
              "...         ...       ...       ...  ...       ...       ...       ...\n",
              "12676 -0.059626  1.661568  1.550029  ...  1.469593  1.575752  1.737070\n",
              "12677  1.833380  1.661568  1.550029  ... -0.781976 -0.722911 -0.662971\n",
              "12678  1.833380  1.661568  1.550029  ... -0.781976 -0.722911 -0.662971\n",
              "12679 -0.561853  0.406899  1.424131  ... -0.781976 -0.722911 -0.662971\n",
              "12680 -0.619802  0.563733  0.479894  ...  0.414724  0.498819 -0.662971\n",
              "\n",
              "[12681 rows x 400 columns]"
            ]
          },
          "metadata": {},
          "execution_count": 45
        }
      ]
    },
    {
      "cell_type": "markdown",
      "metadata": {
        "id": "MRXaTVFJjpBL"
      },
      "source": [
        "#### 2.2"
      ]
    },
    {
      "cell_type": "code",
      "metadata": {
        "id": "IfLXEVj7jsKZ",
        "colab": {
          "base_uri": "https://localhost:8080/"
        },
        "outputId": "7b9e67c7-7f6f-48f5-8829-0e0941f47a8c"
      },
      "source": [
        "#For K=5,10,15,20,30,40,50\n",
        "from sklearn.neighbors import KNeighborsClassifier\n",
        "from sklearn.metrics import accuracy_score\n",
        "\n",
        "ks = [1,2,4,5,7]\n",
        "accTrain = [] #Had to clear out accTrain and accTest for the for loop\n",
        "accTest = []\n",
        "for k in ks:\n",
        "    print('K = ', k)\n",
        "    knn = KNeighborsClassifier(n_neighbors=k)\n",
        "    knn.fit(x_train, y_train)\n",
        "    test_predictions = knn.predict(x_test)\n",
        "    train_predictions = knn.predict(x_train)\n",
        "\n",
        "    train_accuracy = accuracy_score(train_predictions,y_train) * 100\n",
        "    print('Accuracy for training set: %.2f%%',train_accuracy)\n",
        "    accTrain.append(train_accuracy)\n",
        "\n",
        "\n",
        "    test_accuracy = accuracy_score(test_predictions,y_test) * 100\n",
        "    print('Accuracy for test set: %.2f%%',test_accuracy)\n",
        "    accTest.append(test_accuracy)\n",
        "print(\"Best K's seem to be between 5\")\n"
      ],
      "execution_count": null,
      "outputs": [
        {
          "output_type": "stream",
          "name": "stdout",
          "text": [
            "K =  1\n",
            "Accuracy for training set: %.2f%% 97.48442551849223\n",
            "Accuracy for test set: %.2f%% 79.35056746532156\n",
            "K =  2\n",
            "Accuracy for training set: %.2f%% 87.96624871855532\n",
            "Accuracy for test set: %.2f%% 75.66204287515762\n",
            "K =  4\n",
            "Accuracy for training set: %.2f%% 83.17955997161107\n",
            "Accuracy for test set: %.2f%% 73.01387137452711\n",
            "K =  5\n",
            "Accuracy for training set: %.2f%% 81.16079173566753\n",
            "Accuracy for test set: %.2f%% 72.47793190416141\n",
            "K =  7\n",
            "Accuracy for training set: %.2f%% 77.96703729989748\n",
            "Accuracy for test set: %.2f%% 70.39722572509459\n",
            "Best K's seem to be between 5\n"
          ]
        }
      ]
    },
    {
      "cell_type": "code",
      "metadata": {
        "id": "w9lZ2pmyjUAd",
        "colab": {
          "base_uri": "https://localhost:8080/",
          "height": 474
        },
        "outputId": "085b0817-0a70-49ce-c5a6-a91e837ad678"
      },
      "source": [
        "import seaborn as sns\n",
        "sns.set_theme(style=\"darkgrid\")\n",
        "sns.lineplot(ks,accTest, color = \"blue\")\n",
        "sns.scatterplot(ks,accTest)\n",
        "sns.lineplot(ks,accTrain, color = \"orange\")\n",
        "sns.scatterplot(ks,accTrain)\n",
        "\n",
        "plt.legend(labels = [\"Testing accuracy\",\"Training accuracy\"])\n",
        "plt.xticks([1,2,3,4,5,6,7,8,9])\n",
        "plt.title(\"knn accuracies\")\n",
        "plt.xlabel(\"Number of K neighbors\")\n",
        "plt.ylabel(\"Accuracy\")"
      ],
      "execution_count": null,
      "outputs": [
        {
          "output_type": "stream",
          "name": "stderr",
          "text": [
            "/usr/local/lib/python3.7/dist-packages/seaborn/_decorators.py:43: FutureWarning: Pass the following variables as keyword args: x, y. From version 0.12, the only valid positional argument will be `data`, and passing other arguments without an explicit keyword will result in an error or misinterpretation.\n",
            "  FutureWarning\n",
            "/usr/local/lib/python3.7/dist-packages/seaborn/_decorators.py:43: FutureWarning: Pass the following variables as keyword args: x, y. From version 0.12, the only valid positional argument will be `data`, and passing other arguments without an explicit keyword will result in an error or misinterpretation.\n",
            "  FutureWarning\n",
            "/usr/local/lib/python3.7/dist-packages/seaborn/_decorators.py:43: FutureWarning: Pass the following variables as keyword args: x, y. From version 0.12, the only valid positional argument will be `data`, and passing other arguments without an explicit keyword will result in an error or misinterpretation.\n",
            "  FutureWarning\n",
            "/usr/local/lib/python3.7/dist-packages/seaborn/_decorators.py:43: FutureWarning: Pass the following variables as keyword args: x, y. From version 0.12, the only valid positional argument will be `data`, and passing other arguments without an explicit keyword will result in an error or misinterpretation.\n",
            "  FutureWarning\n"
          ]
        },
        {
          "output_type": "execute_result",
          "data": {
            "text/plain": [
              "Text(0, 0.5, 'Accuracy')"
            ]
          },
          "metadata": {},
          "execution_count": 47
        },
        {
          "output_type": "display_data",
          "data": {
            "image/png": "[encoded data removed]",
            "text/plain": [
              "<Figure size 432x288 with 1 Axes>"
            ]
          },
          "metadata": {}
        }
      ]
    },
    {
      "cell_type": "code",
      "metadata": {
        "id": "GOp6djIFCyQA"
      },
      "source": [
        "knn = KNeighborsClassifier(n_neighbors=1)\n",
        "knn.fit(x_train, y_train)\n",
        "test_predictions = knn.predict(x_test)\n",
        "\n"
      ],
      "execution_count": null,
      "outputs": []
    },
    {
      "cell_type": "code",
      "metadata": {
        "id": "wPSZEUJYli9c",
        "colab": {
          "base_uri": "https://localhost:8080/"
        },
        "outputId": "cb39fa27-97de-41b7-c745-cbfa23fc7c4f"
      },
      "source": [
        "accuracy_score(test_predictions,y_test)"
      ],
      "execution_count": null,
      "outputs": [
        {
          "output_type": "execute_result",
          "data": {
            "text/plain": [
              "0.7935056746532156"
            ]
          },
          "metadata": {},
          "execution_count": 49
        }
      ]
    },
    {
      "cell_type": "markdown",
      "metadata": {
        "id": "n14wbG1Zjt57"
      },
      "source": [
        "#### 2.3"
      ]
    },
    {
      "cell_type": "code",
      "metadata": {
        "id": "NAapC3qpx_LT"
      },
      "source": [
        "print(\"After testing more specific k values between 2 and 7, the best K seems to be 5. \\n \")\n",
        "standard_dev = np.std((test_predictions==y_test))\n",
        "mean = (test_predictions==y_test).sum() / len(y_test)\n",
        "z = 1.64485 #This is the Z score when we are looking for a 90% confidence interval\n",
        "n = len(y_test)\n",
        "lower_bound = mean - (z * (standard_dev/np.sqrt(n)))\n",
        "upper_bound = mean + (z * (standard_dev/np.sqrt(n)))\n",
        "print(\"90 percent confidence interval: (%.4f,%.4f)\" % (lower_bound,upper_bound))"
      ],
      "execution_count": null,
      "outputs": []
    },
    {
      "cell_type": "markdown",
      "metadata": {
        "id": "83xzMqvJjvi2"
      },
      "source": [
        "#### 2.4"
      ]
    },
    {
      "cell_type": "code",
      "metadata": {
        "id": "6luDRm2q9NoI"
      },
      "source": [
        "from sklearn.metrics import confusion_matrix\n",
        "test_conf = confusion_matrix(test_predictions,y_test, normalize = \"true\")\n",
        "test_conf\n"
      ],
      "execution_count": null,
      "outputs": []
    },
    {
      "cell_type": "code",
      "metadata": {
        "id": "zOhcf365QgCX",
        "colab": {
          "base_uri": "https://localhost:8080/"
        },
        "outputId": "cbd4dbff-c37e-4f8f-8ad2-8998a0c90eac"
      },
      "source": [
        "#FINDING CONF INTERVAL FOR lucida\n",
        "temp_test = []\n",
        "temp_train = []\n",
        "YY = y_test.reset_index(drop = True)\n",
        "for i in range(len(test_predictions)): #This loop is looking for \n",
        "  if test_predictions[i] == \"LUCIDA\":\n",
        "    temp_test.append(test_predictions[i])\n",
        "    temp_train.append(YY[i])\n",
        "\n",
        "\n",
        "temp_data = np.array(temp_test) == np.array(temp_train)\n",
        "standard_dev = np.std(temp_data)\n",
        "mean = row1[0]\n",
        "z = 1.64485 #This is the Z score when we are looking for a 90% confidence interval\n",
        "n = len(temp_train)\n",
        "lower_bound = mean - (z * (standard_dev/np.sqrt(n)))\n",
        "upper_bound = mean + (z * (standard_dev/np.sqrt(n)))\n",
        "print(\"90 percent confidence interval: (%.4f,%.4f)\" % (lower_bound,upper_bound)) "
      ],
      "execution_count": null,
      "outputs": [
        {
          "output_type": "stream",
          "name": "stdout",
          "text": [
            "90 percent confidence interval: (0.7976,0.8644)\n"
          ]
        }
      ]
    },
    {
      "cell_type": "code",
      "metadata": {
        "id": "SHwLYmIvVohW",
        "colab": {
          "base_uri": "https://localhost:8080/"
        },
        "outputId": "101b0ad0-103d-4dd7-f5d4-df6b4c14200e"
      },
      "source": [
        "#FINDING CONF INTERVAL FOR TIMES\n",
        "temp_test = []\n",
        "temp_train = []\n",
        "YY = y_test.reset_index(drop = True)\n",
        "for i in range(len(test_predictions)):\n",
        "  if test_predictions[i] == \"TIMES\":\n",
        "    temp_test.append(test_predictions[i])\n",
        "    temp_train.append(YY[i])\n",
        "\n",
        "\n",
        "temp_data = np.array(temp_test) == np.array(temp_train)\n",
        "standard_dev = np.std(temp_data)\n",
        "mean = row2[1]\n",
        "z = 1.64485 #This is the Z score when we are looking for a 90% confidence interval\n",
        "n = len(temp_train)\n",
        "lower_bound = mean + (z * (standard_dev/np.sqrt(n)))\n",
        "upper_bound = mean - (z * (standard_dev/np.sqrt(n)))\n",
        "print(\"90 percent confidence interval: (%.4f,%.4f)\" % (lower_bound,upper_bound)) "
      ],
      "execution_count": null,
      "outputs": [
        {
          "output_type": "stream",
          "name": "stdout",
          "text": [
            "90 percent confidence interval: (0.5404,0.4988)\n"
          ]
        }
      ]
    },
    {
      "cell_type": "code",
      "metadata": {
        "id": "nf7LQV-OW8IS"
      },
      "source": [
        "#FINDING CONF INTERVAL FOR frank\n",
        "temp_test = []\n",
        "temp_train = []\n",
        "YY = y_test.reset_index(drop = True)\n",
        "for i in range(len(test_predictions)):\n",
        "  if test_predictions[i] == \"frank\":\n",
        "    temp_test.append(test_predictions[i])\n",
        "    temp_train.append(YY[i])\n",
        "\n",
        "\n",
        "temp_data = np.array(temp_test) == np.array(temp_train)\n",
        "standard_dev = np.std(temp_data)\n",
        "mean = row3[2]\n",
        "z = 1.64485 #This is the Z score when we are looking for a 90% confidence interval\n",
        "n = len(temp_train)\n",
        "lower_bound = mean + (z * (standard_dev/np.sqrt(n)))\n",
        "upper_bound = mean - (z * (standard_dev/np.sqrt(n)))\n",
        "print(\"90 percent confidence interval: (%.4f,%.4f)\" % (lower_bound,upper_bound)) "
      ],
      "execution_count": null,
      "outputs": []
    },
    {
      "cell_type": "code",
      "metadata": {
        "id": "8YFMUhl1W8cu"
      },
      "source": [
        "#FINDING CONF INTERVAL FOR lucida\n",
        "temp_test = []\n",
        "temp_train = []\n",
        "YY = y_test.reset_index(drop = True)\n",
        "for i in range(len(test_predictions)):\n",
        "  if test_predictions[i] == \"TAHOMA\":\n",
        "    temp_test.append(test_predictions[i])\n",
        "    temp_train.append(YY[i])\n",
        "\n",
        "\n",
        "temp_data = np.array(temp_test) == np.array(temp_train)\n",
        "standard_dev = np.std(temp_data)\n",
        "mean = row4[3]\n",
        "z = 1.64485 #This is the Z score when we are looking for a 90% confidence interval\n",
        "n = len(temp_train)\n",
        "lower_bound = mean + (z * (standard_dev/np.sqrt(n)))\n",
        "upper_bound = mean - (z * (standard_dev/np.sqrt(n)))\n",
        "print(\"90 percent confidence interval: (%.4f,%.4f)\" % (lower_bound,upper_bound)) "
      ],
      "execution_count": null,
      "outputs": []
    },
    {
      "cell_type": "markdown",
      "metadata": {
        "id": "VP9_atDujxKH"
      },
      "source": [
        "#### 2.5"
      ]
    },
    {
      "cell_type": "code",
      "metadata": {
        "id": "jowjRoYYjyx5"
      },
      "source": [
        "ERR21=[]\n",
        "ERR23=[]\n",
        "ERR24=[]\n",
        "for i in range(len(y_test)):\n",
        "    \n",
        "    if y_train[i]=='TIMES' and train_predictions[i]==\"lucida\":\n",
        "        ERR21.append(i)\n",
        "    if y_train[i]==\"TIMES\" and train_predictions[i]==\"frank\":\n",
        "        ERR23.append(i)\n",
        "    if y_train[i]==\"TIMES\" and train_predictions[i]==\"TAHOMA\":\n",
        "        ERR24.append(i)"
      ],
      "execution_count": null,
      "outputs": []
    },
    {
      "cell_type": "markdown",
      "metadata": {
        "id": "J3VU5mFXjz81"
      },
      "source": [
        "## Part 3"
      ]
    },
    {
      "cell_type": "markdown",
      "metadata": {
        "id": "-0PdWNCdj1YB"
      },
      "source": [
        "#### 3.1"
      ]
    },
    {
      "cell_type": "code",
      "metadata": {
        "id": "OzlAwc09j3Oh"
      },
      "source": [
        "from numpy.linalg import eig"
      ],
      "execution_count": null,
      "outputs": []
    },
    {
      "cell_type": "code",
      "metadata": {
        "id": "sQxuyf_UgJLY"
      },
      "source": [
        "#Need to make x_train scaler first\n",
        "scaler = preprocessing.StandardScaler().fit(x_train)\n",
        "x_scaled = scaler.transform(x_train)\n",
        "X_scaled = pd.DataFrame(scaler.transform(x_train))\n",
        "CORR = X_scaled.corr()"
      ],
      "execution_count": null,
      "outputs": []
    },
    {
      "cell_type": "code",
      "metadata": {
        "id": "7-AK38QDj3L-",
        "colab": {
          "base_uri": "https://localhost:8080/"
        },
        "outputId": "79b12cce-49cb-48db-875a-889e01abb041"
      },
      "source": [
        "#Compute eigen values and vectors from CORR\n",
        "eigenvalues, eigenvectors = eig(CORR)\n",
        "\n",
        "#L = eigenvalues\n",
        "#W = eigenvectors\n",
        "eigenvectors"
      ],
      "execution_count": null,
      "outputs": [
        {
          "output_type": "execute_result",
          "data": {
            "text/plain": [
              "array([[ 0.04306147,  0.00499943,  0.11517813, ...,  0.00610828,\n",
              "        -0.00437456,  0.0143294 ],\n",
              "       [ 0.0384284 ,  0.01119417,  0.11819546, ...,  0.07252399,\n",
              "         0.06559677,  0.02255032],\n",
              "       [ 0.03914946,  0.01350054,  0.11311216, ..., -0.10258897,\n",
              "        -0.11820367, -0.01329255],\n",
              "       ...,\n",
              "       [ 0.03490909,  0.01303947,  0.01063654, ..., -0.00195548,\n",
              "         0.07199195,  0.06497025],\n",
              "       [ 0.03628336,  0.01214348,  0.01659012, ..., -0.08718884,\n",
              "         0.01413958, -0.13211021],\n",
              "       [ 0.03975006,  0.00942472,  0.01987556, ...,  0.04536753,\n",
              "        -0.08427618,  0.02772543]])"
            ]
          },
          "metadata": {},
          "execution_count": 56
        }
      ]
    },
    {
      "cell_type": "code",
      "metadata": {
        "colab": {
          "base_uri": "https://localhost:8080/",
          "height": 439
        },
        "id": "uWmdTmQrgqQV",
        "outputId": "b57a6b53-c447-4124-e7ca-6449dae8fb87"
      },
      "source": [
        "dataf = pd.DataFrame(eigenvectors)\n",
        "dataf"
      ],
      "execution_count": null,
      "outputs": [
        {
          "output_type": "execute_result",
          "data": {
            "text/html": [
              "<div>\n",
              "<style scoped>\n",
              "    .dataframe tbody tr th:only-of-type {\n",
              "        vertical-align: middle;\n",
              "    }\n",
              "\n",
              "    .dataframe tbody tr th {\n",
              "        vertical-align: top;\n",
              "    }\n",
              "\n",
              "    .dataframe thead th {\n",
              "        text-align: right;\n",
              "    }\n",
              "</style>\n",
              "<table border=\"1\" class=\"dataframe\">\n",
              "  <thead>\n",
              "    <tr style=\"text-align: right;\">\n",
              "      <th></th>\n",
              "      <th>0</th>\n",
              "      <th>1</th>\n",
              "      <th>2</th>\n",
              "      <th>3</th>\n",
              "      <th>4</th>\n",
              "      <th>5</th>\n",
              "      <th>6</th>\n",
              "      <th>7</th>\n",
              "      <th>8</th>\n",
              "      <th>9</th>\n",
              "      <th>10</th>\n",
              "      <th>11</th>\n",
              "      <th>12</th>\n",
              "      <th>13</th>\n",
              "      <th>14</th>\n",
              "      <th>15</th>\n",
              "      <th>16</th>\n",
              "      <th>17</th>\n",
              "      <th>18</th>\n",
              "      <th>19</th>\n",
              "      <th>20</th>\n",
              "      <th>21</th>\n",
              "      <th>22</th>\n",
              "      <th>23</th>\n",
              "      <th>24</th>\n",
              "      <th>25</th>\n",
              "      <th>26</th>\n",
              "      <th>27</th>\n",
              "      <th>28</th>\n",
              "      <th>29</th>\n",
              "      <th>30</th>\n",
              "      <th>31</th>\n",
              "      <th>32</th>\n",
              "      <th>33</th>\n",
              "      <th>34</th>\n",
              "      <th>35</th>\n",
              "      <th>36</th>\n",
              "      <th>37</th>\n",
              "      <th>38</th>\n",
              "      <th>39</th>\n",
              "      <th>...</th>\n",
              "      <th>360</th>\n",
              "      <th>361</th>\n",
              "      <th>362</th>\n",
              "      <th>363</th>\n",
              "      <th>364</th>\n",
              "      <th>365</th>\n",
              "      <th>366</th>\n",
              "      <th>367</th>\n",
              "      <th>368</th>\n",
              "      <th>369</th>\n",
              "      <th>370</th>\n",
              "      <th>371</th>\n",
              "      <th>372</th>\n",
              "      <th>373</th>\n",
              "      <th>374</th>\n",
              "      <th>375</th>\n",
              "      <th>376</th>\n",
              "      <th>377</th>\n",
              "      <th>378</th>\n",
              "      <th>379</th>\n",
              "      <th>380</th>\n",
              "      <th>381</th>\n",
              "      <th>382</th>\n",
              "      <th>383</th>\n",
              "      <th>384</th>\n",
              "      <th>385</th>\n",
              "      <th>386</th>\n",
              "      <th>387</th>\n",
              "      <th>388</th>\n",
              "      <th>389</th>\n",
              "      <th>390</th>\n",
              "      <th>391</th>\n",
              "      <th>392</th>\n",
              "      <th>393</th>\n",
              "      <th>394</th>\n",
              "      <th>395</th>\n",
              "      <th>396</th>\n",
              "      <th>397</th>\n",
              "      <th>398</th>\n",
              "      <th>399</th>\n",
              "    </tr>\n",
              "  </thead>\n",
              "  <tbody>\n",
              "    <tr>\n",
              "      <th>0</th>\n",
              "      <td>0.043061</td>\n",
              "      <td>0.004999</td>\n",
              "      <td>0.115178</td>\n",
              "      <td>0.045752</td>\n",
              "      <td>0.009135</td>\n",
              "      <td>-0.022381</td>\n",
              "      <td>-0.061584</td>\n",
              "      <td>-0.010782</td>\n",
              "      <td>0.048601</td>\n",
              "      <td>-0.037731</td>\n",
              "      <td>-0.001522</td>\n",
              "      <td>0.076573</td>\n",
              "      <td>0.059556</td>\n",
              "      <td>0.031414</td>\n",
              "      <td>-0.059773</td>\n",
              "      <td>-0.042397</td>\n",
              "      <td>0.042098</td>\n",
              "      <td>0.045014</td>\n",
              "      <td>0.054978</td>\n",
              "      <td>-0.048163</td>\n",
              "      <td>0.005357</td>\n",
              "      <td>0.041196</td>\n",
              "      <td>0.026279</td>\n",
              "      <td>0.030717</td>\n",
              "      <td>0.007510</td>\n",
              "      <td>0.046837</td>\n",
              "      <td>-0.038322</td>\n",
              "      <td>-0.051701</td>\n",
              "      <td>0.044200</td>\n",
              "      <td>0.066332</td>\n",
              "      <td>0.109539</td>\n",
              "      <td>-0.016546</td>\n",
              "      <td>-0.001601</td>\n",
              "      <td>-0.057895</td>\n",
              "      <td>-0.015072</td>\n",
              "      <td>0.002257</td>\n",
              "      <td>0.043519</td>\n",
              "      <td>0.053034</td>\n",
              "      <td>-0.020967</td>\n",
              "      <td>0.072562</td>\n",
              "      <td>...</td>\n",
              "      <td>0.013970</td>\n",
              "      <td>0.051482</td>\n",
              "      <td>-0.106791</td>\n",
              "      <td>-0.031834</td>\n",
              "      <td>-0.055193</td>\n",
              "      <td>0.031929</td>\n",
              "      <td>0.097989</td>\n",
              "      <td>0.041220</td>\n",
              "      <td>0.029692</td>\n",
              "      <td>-0.063570</td>\n",
              "      <td>0.016056</td>\n",
              "      <td>0.051333</td>\n",
              "      <td>-0.025904</td>\n",
              "      <td>-0.054793</td>\n",
              "      <td>-0.067164</td>\n",
              "      <td>0.052029</td>\n",
              "      <td>0.032310</td>\n",
              "      <td>0.025393</td>\n",
              "      <td>0.053059</td>\n",
              "      <td>0.066990</td>\n",
              "      <td>-0.007090</td>\n",
              "      <td>-0.045697</td>\n",
              "      <td>-0.047530</td>\n",
              "      <td>0.025738</td>\n",
              "      <td>0.119833</td>\n",
              "      <td>-0.006599</td>\n",
              "      <td>0.000375</td>\n",
              "      <td>0.007188</td>\n",
              "      <td>0.071805</td>\n",
              "      <td>0.018849</td>\n",
              "      <td>-0.004643</td>\n",
              "      <td>0.001637</td>\n",
              "      <td>0.038443</td>\n",
              "      <td>0.004424</td>\n",
              "      <td>0.016499</td>\n",
              "      <td>0.004698</td>\n",
              "      <td>0.007056</td>\n",
              "      <td>0.006108</td>\n",
              "      <td>-0.004375</td>\n",
              "      <td>0.014329</td>\n",
              "    </tr>\n",
              "    <tr>\n",
              "      <th>1</th>\n",
              "      <td>0.038428</td>\n",
              "      <td>0.011194</td>\n",
              "      <td>0.118195</td>\n",
              "      <td>0.038384</td>\n",
              "      <td>0.002835</td>\n",
              "      <td>-0.033128</td>\n",
              "      <td>-0.068289</td>\n",
              "      <td>-0.020028</td>\n",
              "      <td>0.057130</td>\n",
              "      <td>-0.039861</td>\n",
              "      <td>-0.002054</td>\n",
              "      <td>0.087362</td>\n",
              "      <td>0.053711</td>\n",
              "      <td>0.025414</td>\n",
              "      <td>-0.050241</td>\n",
              "      <td>-0.045544</td>\n",
              "      <td>0.057433</td>\n",
              "      <td>0.046821</td>\n",
              "      <td>0.053784</td>\n",
              "      <td>-0.039758</td>\n",
              "      <td>-0.004886</td>\n",
              "      <td>0.056595</td>\n",
              "      <td>0.024785</td>\n",
              "      <td>0.035521</td>\n",
              "      <td>0.008728</td>\n",
              "      <td>0.048324</td>\n",
              "      <td>-0.054875</td>\n",
              "      <td>-0.056319</td>\n",
              "      <td>0.034952</td>\n",
              "      <td>0.067510</td>\n",
              "      <td>0.115854</td>\n",
              "      <td>-0.014844</td>\n",
              "      <td>-0.013087</td>\n",
              "      <td>-0.061622</td>\n",
              "      <td>-0.018410</td>\n",
              "      <td>-0.005885</td>\n",
              "      <td>0.026919</td>\n",
              "      <td>0.034519</td>\n",
              "      <td>-0.034356</td>\n",
              "      <td>0.041022</td>\n",
              "      <td>...</td>\n",
              "      <td>0.023011</td>\n",
              "      <td>-0.085126</td>\n",
              "      <td>0.074627</td>\n",
              "      <td>0.020099</td>\n",
              "      <td>0.032107</td>\n",
              "      <td>0.035868</td>\n",
              "      <td>-0.150705</td>\n",
              "      <td>-0.019914</td>\n",
              "      <td>-0.018207</td>\n",
              "      <td>0.096021</td>\n",
              "      <td>-0.018535</td>\n",
              "      <td>-0.063008</td>\n",
              "      <td>0.015270</td>\n",
              "      <td>0.054771</td>\n",
              "      <td>0.001670</td>\n",
              "      <td>-0.023452</td>\n",
              "      <td>-0.026871</td>\n",
              "      <td>-0.044109</td>\n",
              "      <td>-0.020866</td>\n",
              "      <td>0.024862</td>\n",
              "      <td>0.021395</td>\n",
              "      <td>0.095831</td>\n",
              "      <td>0.036186</td>\n",
              "      <td>-0.050178</td>\n",
              "      <td>-0.171211</td>\n",
              "      <td>0.024154</td>\n",
              "      <td>-0.005420</td>\n",
              "      <td>0.026519</td>\n",
              "      <td>-0.004047</td>\n",
              "      <td>0.004974</td>\n",
              "      <td>-0.023781</td>\n",
              "      <td>0.019831</td>\n",
              "      <td>-0.102616</td>\n",
              "      <td>-0.036283</td>\n",
              "      <td>-0.060556</td>\n",
              "      <td>-0.031655</td>\n",
              "      <td>-0.004941</td>\n",
              "      <td>0.072524</td>\n",
              "      <td>0.065597</td>\n",
              "      <td>0.022550</td>\n",
              "    </tr>\n",
              "    <tr>\n",
              "      <th>2</th>\n",
              "      <td>0.039149</td>\n",
              "      <td>0.013501</td>\n",
              "      <td>0.113112</td>\n",
              "      <td>0.032935</td>\n",
              "      <td>-0.007909</td>\n",
              "      <td>-0.046689</td>\n",
              "      <td>-0.068178</td>\n",
              "      <td>-0.022374</td>\n",
              "      <td>0.069458</td>\n",
              "      <td>-0.041216</td>\n",
              "      <td>-0.003988</td>\n",
              "      <td>0.088080</td>\n",
              "      <td>0.057054</td>\n",
              "      <td>0.011780</td>\n",
              "      <td>-0.039602</td>\n",
              "      <td>-0.047289</td>\n",
              "      <td>0.085169</td>\n",
              "      <td>0.040277</td>\n",
              "      <td>0.046889</td>\n",
              "      <td>-0.020821</td>\n",
              "      <td>-0.021777</td>\n",
              "      <td>0.069645</td>\n",
              "      <td>0.044382</td>\n",
              "      <td>0.040983</td>\n",
              "      <td>0.004297</td>\n",
              "      <td>0.059907</td>\n",
              "      <td>-0.052534</td>\n",
              "      <td>-0.041351</td>\n",
              "      <td>0.013029</td>\n",
              "      <td>0.063484</td>\n",
              "      <td>0.083171</td>\n",
              "      <td>-0.010063</td>\n",
              "      <td>-0.040413</td>\n",
              "      <td>-0.059196</td>\n",
              "      <td>-0.017050</td>\n",
              "      <td>-0.015336</td>\n",
              "      <td>0.014379</td>\n",
              "      <td>0.016143</td>\n",
              "      <td>-0.053758</td>\n",
              "      <td>-0.003608</td>\n",
              "      <td>...</td>\n",
              "      <td>-0.082923</td>\n",
              "      <td>0.017709</td>\n",
              "      <td>0.010493</td>\n",
              "      <td>0.020862</td>\n",
              "      <td>0.020954</td>\n",
              "      <td>-0.072118</td>\n",
              "      <td>0.066013</td>\n",
              "      <td>-0.031983</td>\n",
              "      <td>-0.018637</td>\n",
              "      <td>-0.029582</td>\n",
              "      <td>-0.030253</td>\n",
              "      <td>0.014322</td>\n",
              "      <td>-0.019644</td>\n",
              "      <td>0.035403</td>\n",
              "      <td>0.062995</td>\n",
              "      <td>-0.052066</td>\n",
              "      <td>-0.032749</td>\n",
              "      <td>0.048854</td>\n",
              "      <td>0.036352</td>\n",
              "      <td>-0.116550</td>\n",
              "      <td>-0.026693</td>\n",
              "      <td>-0.063309</td>\n",
              "      <td>0.021453</td>\n",
              "      <td>0.020759</td>\n",
              "      <td>0.057123</td>\n",
              "      <td>-0.013537</td>\n",
              "      <td>0.019108</td>\n",
              "      <td>-0.004874</td>\n",
              "      <td>-0.038371</td>\n",
              "      <td>-0.033399</td>\n",
              "      <td>0.052109</td>\n",
              "      <td>-0.028673</td>\n",
              "      <td>0.060037</td>\n",
              "      <td>0.024205</td>\n",
              "      <td>0.056511</td>\n",
              "      <td>0.031762</td>\n",
              "      <td>0.017044</td>\n",
              "      <td>-0.102589</td>\n",
              "      <td>-0.118204</td>\n",
              "      <td>-0.013293</td>\n",
              "    </tr>\n",
              "    <tr>\n",
              "      <th>3</th>\n",
              "      <td>0.041387</td>\n",
              "      <td>0.014437</td>\n",
              "      <td>0.099112</td>\n",
              "      <td>0.025066</td>\n",
              "      <td>-0.013360</td>\n",
              "      <td>-0.059007</td>\n",
              "      <td>-0.062186</td>\n",
              "      <td>-0.025952</td>\n",
              "      <td>0.081173</td>\n",
              "      <td>-0.034044</td>\n",
              "      <td>-0.005266</td>\n",
              "      <td>0.079020</td>\n",
              "      <td>0.073047</td>\n",
              "      <td>-0.004659</td>\n",
              "      <td>-0.028271</td>\n",
              "      <td>-0.052552</td>\n",
              "      <td>0.107488</td>\n",
              "      <td>0.018165</td>\n",
              "      <td>0.031739</td>\n",
              "      <td>0.017303</td>\n",
              "      <td>-0.031162</td>\n",
              "      <td>0.084599</td>\n",
              "      <td>0.061406</td>\n",
              "      <td>0.045040</td>\n",
              "      <td>-0.009705</td>\n",
              "      <td>0.067525</td>\n",
              "      <td>-0.035831</td>\n",
              "      <td>-0.013905</td>\n",
              "      <td>0.005788</td>\n",
              "      <td>0.033748</td>\n",
              "      <td>0.018980</td>\n",
              "      <td>0.002780</td>\n",
              "      <td>-0.077763</td>\n",
              "      <td>-0.047493</td>\n",
              "      <td>-0.018791</td>\n",
              "      <td>-0.032541</td>\n",
              "      <td>0.007093</td>\n",
              "      <td>0.012075</td>\n",
              "      <td>-0.061968</td>\n",
              "      <td>-0.053752</td>\n",
              "      <td>...</td>\n",
              "      <td>0.080586</td>\n",
              "      <td>0.069324</td>\n",
              "      <td>0.036820</td>\n",
              "      <td>-0.050525</td>\n",
              "      <td>-0.016714</td>\n",
              "      <td>0.010137</td>\n",
              "      <td>-0.006714</td>\n",
              "      <td>0.068539</td>\n",
              "      <td>0.015091</td>\n",
              "      <td>-0.040028</td>\n",
              "      <td>0.082305</td>\n",
              "      <td>-0.017207</td>\n",
              "      <td>0.027548</td>\n",
              "      <td>-0.088715</td>\n",
              "      <td>-0.022486</td>\n",
              "      <td>0.023207</td>\n",
              "      <td>0.081545</td>\n",
              "      <td>-0.047763</td>\n",
              "      <td>-0.072183</td>\n",
              "      <td>0.024780</td>\n",
              "      <td>0.036930</td>\n",
              "      <td>0.038951</td>\n",
              "      <td>-0.061055</td>\n",
              "      <td>0.036349</td>\n",
              "      <td>0.033616</td>\n",
              "      <td>-0.004063</td>\n",
              "      <td>-0.044270</td>\n",
              "      <td>-0.056991</td>\n",
              "      <td>-0.056025</td>\n",
              "      <td>0.005233</td>\n",
              "      <td>-0.074414</td>\n",
              "      <td>0.016996</td>\n",
              "      <td>0.024850</td>\n",
              "      <td>-0.021054</td>\n",
              "      <td>-0.040020</td>\n",
              "      <td>0.021110</td>\n",
              "      <td>-0.009833</td>\n",
              "      <td>0.021809</td>\n",
              "      <td>0.111302</td>\n",
              "      <td>-0.045546</td>\n",
              "    </tr>\n",
              "    <tr>\n",
              "      <th>4</th>\n",
              "      <td>0.043379</td>\n",
              "      <td>0.020105</td>\n",
              "      <td>0.070344</td>\n",
              "      <td>0.006429</td>\n",
              "      <td>-0.019269</td>\n",
              "      <td>-0.074452</td>\n",
              "      <td>-0.042503</td>\n",
              "      <td>-0.031075</td>\n",
              "      <td>0.091442</td>\n",
              "      <td>-0.015678</td>\n",
              "      <td>-0.004759</td>\n",
              "      <td>0.048390</td>\n",
              "      <td>0.091947</td>\n",
              "      <td>-0.028556</td>\n",
              "      <td>-0.028643</td>\n",
              "      <td>-0.057516</td>\n",
              "      <td>0.110540</td>\n",
              "      <td>-0.021490</td>\n",
              "      <td>0.017785</td>\n",
              "      <td>0.057141</td>\n",
              "      <td>-0.018840</td>\n",
              "      <td>0.108003</td>\n",
              "      <td>0.077530</td>\n",
              "      <td>0.060426</td>\n",
              "      <td>-0.030960</td>\n",
              "      <td>0.073744</td>\n",
              "      <td>-0.002718</td>\n",
              "      <td>0.018554</td>\n",
              "      <td>0.033303</td>\n",
              "      <td>-0.028142</td>\n",
              "      <td>-0.080539</td>\n",
              "      <td>-0.000423</td>\n",
              "      <td>-0.091262</td>\n",
              "      <td>-0.020023</td>\n",
              "      <td>0.010689</td>\n",
              "      <td>-0.058354</td>\n",
              "      <td>0.017942</td>\n",
              "      <td>0.025818</td>\n",
              "      <td>-0.039879</td>\n",
              "      <td>-0.097963</td>\n",
              "      <td>...</td>\n",
              "      <td>0.023761</td>\n",
              "      <td>-0.074331</td>\n",
              "      <td>-0.069297</td>\n",
              "      <td>0.049775</td>\n",
              "      <td>0.014592</td>\n",
              "      <td>-0.002692</td>\n",
              "      <td>-0.001819</td>\n",
              "      <td>-0.054921</td>\n",
              "      <td>-0.019398</td>\n",
              "      <td>0.075992</td>\n",
              "      <td>-0.057600</td>\n",
              "      <td>0.042049</td>\n",
              "      <td>-0.022935</td>\n",
              "      <td>0.044915</td>\n",
              "      <td>0.022496</td>\n",
              "      <td>0.009513</td>\n",
              "      <td>0.007167</td>\n",
              "      <td>-0.005954</td>\n",
              "      <td>0.022357</td>\n",
              "      <td>0.048538</td>\n",
              "      <td>-0.078826</td>\n",
              "      <td>-0.036843</td>\n",
              "      <td>0.089298</td>\n",
              "      <td>-0.039459</td>\n",
              "      <td>-0.073505</td>\n",
              "      <td>0.008552</td>\n",
              "      <td>0.046391</td>\n",
              "      <td>0.032616</td>\n",
              "      <td>0.043578</td>\n",
              "      <td>0.033250</td>\n",
              "      <td>0.089841</td>\n",
              "      <td>-0.054867</td>\n",
              "      <td>-0.030381</td>\n",
              "      <td>0.066985</td>\n",
              "      <td>0.072520</td>\n",
              "      <td>-0.043646</td>\n",
              "      <td>-0.007561</td>\n",
              "      <td>0.017787</td>\n",
              "      <td>-0.060936</td>\n",
              "      <td>0.028291</td>\n",
              "    </tr>\n",
              "    <tr>\n",
              "      <th>...</th>\n",
              "      <td>...</td>\n",
              "      <td>...</td>\n",
              "      <td>...</td>\n",
              "      <td>...</td>\n",
              "      <td>...</td>\n",
              "      <td>...</td>\n",
              "      <td>...</td>\n",
              "      <td>...</td>\n",
              "      <td>...</td>\n",
              "      <td>...</td>\n",
              "      <td>...</td>\n",
              "      <td>...</td>\n",
              "      <td>...</td>\n",
              "      <td>...</td>\n",
              "      <td>...</td>\n",
              "      <td>...</td>\n",
              "      <td>...</td>\n",
              "      <td>...</td>\n",
              "      <td>...</td>\n",
              "      <td>...</td>\n",
              "      <td>...</td>\n",
              "      <td>...</td>\n",
              "      <td>...</td>\n",
              "      <td>...</td>\n",
              "      <td>...</td>\n",
              "      <td>...</td>\n",
              "      <td>...</td>\n",
              "      <td>...</td>\n",
              "      <td>...</td>\n",
              "      <td>...</td>\n",
              "      <td>...</td>\n",
              "      <td>...</td>\n",
              "      <td>...</td>\n",
              "      <td>...</td>\n",
              "      <td>...</td>\n",
              "      <td>...</td>\n",
              "      <td>...</td>\n",
              "      <td>...</td>\n",
              "      <td>...</td>\n",
              "      <td>...</td>\n",
              "      <td>...</td>\n",
              "      <td>...</td>\n",
              "      <td>...</td>\n",
              "      <td>...</td>\n",
              "      <td>...</td>\n",
              "      <td>...</td>\n",
              "      <td>...</td>\n",
              "      <td>...</td>\n",
              "      <td>...</td>\n",
              "      <td>...</td>\n",
              "      <td>...</td>\n",
              "      <td>...</td>\n",
              "      <td>...</td>\n",
              "      <td>...</td>\n",
              "      <td>...</td>\n",
              "      <td>...</td>\n",
              "      <td>...</td>\n",
              "      <td>...</td>\n",
              "      <td>...</td>\n",
              "      <td>...</td>\n",
              "      <td>...</td>\n",
              "      <td>...</td>\n",
              "      <td>...</td>\n",
              "      <td>...</td>\n",
              "      <td>...</td>\n",
              "      <td>...</td>\n",
              "      <td>...</td>\n",
              "      <td>...</td>\n",
              "      <td>...</td>\n",
              "      <td>...</td>\n",
              "      <td>...</td>\n",
              "      <td>...</td>\n",
              "      <td>...</td>\n",
              "      <td>...</td>\n",
              "      <td>...</td>\n",
              "      <td>...</td>\n",
              "      <td>...</td>\n",
              "      <td>...</td>\n",
              "      <td>...</td>\n",
              "      <td>...</td>\n",
              "      <td>...</td>\n",
              "    </tr>\n",
              "    <tr>\n",
              "      <th>395</th>\n",
              "      <td>0.039429</td>\n",
              "      <td>0.019743</td>\n",
              "      <td>-0.020592</td>\n",
              "      <td>0.029679</td>\n",
              "      <td>0.065362</td>\n",
              "      <td>-0.061177</td>\n",
              "      <td>-0.087700</td>\n",
              "      <td>-0.009068</td>\n",
              "      <td>-0.004724</td>\n",
              "      <td>-0.068781</td>\n",
              "      <td>-0.110341</td>\n",
              "      <td>-0.054960</td>\n",
              "      <td>0.026721</td>\n",
              "      <td>-0.086552</td>\n",
              "      <td>0.021802</td>\n",
              "      <td>0.055604</td>\n",
              "      <td>0.030821</td>\n",
              "      <td>0.028955</td>\n",
              "      <td>0.075511</td>\n",
              "      <td>0.042658</td>\n",
              "      <td>-0.030350</td>\n",
              "      <td>0.026789</td>\n",
              "      <td>-0.091853</td>\n",
              "      <td>0.046713</td>\n",
              "      <td>0.000086</td>\n",
              "      <td>-0.066444</td>\n",
              "      <td>0.052906</td>\n",
              "      <td>0.063455</td>\n",
              "      <td>0.073986</td>\n",
              "      <td>0.058962</td>\n",
              "      <td>-0.017435</td>\n",
              "      <td>-0.011926</td>\n",
              "      <td>0.027458</td>\n",
              "      <td>0.031686</td>\n",
              "      <td>0.014439</td>\n",
              "      <td>-0.100296</td>\n",
              "      <td>-0.075116</td>\n",
              "      <td>0.058473</td>\n",
              "      <td>0.008362</td>\n",
              "      <td>0.036244</td>\n",
              "      <td>...</td>\n",
              "      <td>-0.069716</td>\n",
              "      <td>0.062365</td>\n",
              "      <td>0.029348</td>\n",
              "      <td>0.080308</td>\n",
              "      <td>-0.003474</td>\n",
              "      <td>0.050038</td>\n",
              "      <td>0.003692</td>\n",
              "      <td>-0.018014</td>\n",
              "      <td>-0.058087</td>\n",
              "      <td>0.008406</td>\n",
              "      <td>-0.009770</td>\n",
              "      <td>0.051220</td>\n",
              "      <td>-0.061913</td>\n",
              "      <td>-0.036453</td>\n",
              "      <td>0.012513</td>\n",
              "      <td>0.059268</td>\n",
              "      <td>0.058931</td>\n",
              "      <td>-0.000242</td>\n",
              "      <td>-0.064175</td>\n",
              "      <td>0.025739</td>\n",
              "      <td>-0.092792</td>\n",
              "      <td>0.023528</td>\n",
              "      <td>0.003707</td>\n",
              "      <td>0.021922</td>\n",
              "      <td>-0.014331</td>\n",
              "      <td>-0.037684</td>\n",
              "      <td>-0.153756</td>\n",
              "      <td>0.076907</td>\n",
              "      <td>0.035511</td>\n",
              "      <td>-0.046668</td>\n",
              "      <td>-0.050579</td>\n",
              "      <td>-0.022640</td>\n",
              "      <td>0.106173</td>\n",
              "      <td>-0.047973</td>\n",
              "      <td>-0.007552</td>\n",
              "      <td>0.026902</td>\n",
              "      <td>-0.005125</td>\n",
              "      <td>-0.013547</td>\n",
              "      <td>-0.080354</td>\n",
              "      <td>-0.064719</td>\n",
              "    </tr>\n",
              "    <tr>\n",
              "      <th>396</th>\n",
              "      <td>0.037176</td>\n",
              "      <td>0.014714</td>\n",
              "      <td>-0.000769</td>\n",
              "      <td>0.033203</td>\n",
              "      <td>0.062896</td>\n",
              "      <td>-0.051835</td>\n",
              "      <td>-0.129622</td>\n",
              "      <td>-0.020324</td>\n",
              "      <td>0.000018</td>\n",
              "      <td>-0.037295</td>\n",
              "      <td>-0.110000</td>\n",
              "      <td>-0.084449</td>\n",
              "      <td>0.023337</td>\n",
              "      <td>-0.081505</td>\n",
              "      <td>0.004725</td>\n",
              "      <td>0.044966</td>\n",
              "      <td>0.019654</td>\n",
              "      <td>0.039282</td>\n",
              "      <td>0.041267</td>\n",
              "      <td>0.049125</td>\n",
              "      <td>-0.030147</td>\n",
              "      <td>0.002732</td>\n",
              "      <td>-0.090108</td>\n",
              "      <td>0.059982</td>\n",
              "      <td>0.032035</td>\n",
              "      <td>-0.061357</td>\n",
              "      <td>-0.031355</td>\n",
              "      <td>0.070412</td>\n",
              "      <td>-0.017920</td>\n",
              "      <td>0.038309</td>\n",
              "      <td>0.029343</td>\n",
              "      <td>0.003895</td>\n",
              "      <td>-0.008003</td>\n",
              "      <td>0.058637</td>\n",
              "      <td>-0.028815</td>\n",
              "      <td>-0.079657</td>\n",
              "      <td>-0.027426</td>\n",
              "      <td>0.069780</td>\n",
              "      <td>0.019056</td>\n",
              "      <td>-0.023102</td>\n",
              "      <td>...</td>\n",
              "      <td>-0.007288</td>\n",
              "      <td>-0.035174</td>\n",
              "      <td>-0.012821</td>\n",
              "      <td>-0.069033</td>\n",
              "      <td>0.043410</td>\n",
              "      <td>-0.046423</td>\n",
              "      <td>-0.046710</td>\n",
              "      <td>-0.018580</td>\n",
              "      <td>0.071999</td>\n",
              "      <td>0.015154</td>\n",
              "      <td>0.025774</td>\n",
              "      <td>-0.052132</td>\n",
              "      <td>0.070981</td>\n",
              "      <td>-0.027050</td>\n",
              "      <td>-0.030323</td>\n",
              "      <td>0.006782</td>\n",
              "      <td>-0.027961</td>\n",
              "      <td>0.016658</td>\n",
              "      <td>0.054561</td>\n",
              "      <td>-0.096883</td>\n",
              "      <td>0.180615</td>\n",
              "      <td>-0.050823</td>\n",
              "      <td>-0.015515</td>\n",
              "      <td>-0.088377</td>\n",
              "      <td>0.028723</td>\n",
              "      <td>-0.050361</td>\n",
              "      <td>0.100772</td>\n",
              "      <td>-0.042736</td>\n",
              "      <td>0.022605</td>\n",
              "      <td>0.114650</td>\n",
              "      <td>0.032093</td>\n",
              "      <td>0.087738</td>\n",
              "      <td>-0.037526</td>\n",
              "      <td>0.013271</td>\n",
              "      <td>0.036549</td>\n",
              "      <td>-0.049927</td>\n",
              "      <td>0.033918</td>\n",
              "      <td>0.070194</td>\n",
              "      <td>0.007173</td>\n",
              "      <td>0.099121</td>\n",
              "    </tr>\n",
              "    <tr>\n",
              "      <th>397</th>\n",
              "      <td>0.034909</td>\n",
              "      <td>0.013039</td>\n",
              "      <td>0.010637</td>\n",
              "      <td>0.031685</td>\n",
              "      <td>0.057390</td>\n",
              "      <td>-0.042526</td>\n",
              "      <td>-0.141825</td>\n",
              "      <td>-0.029513</td>\n",
              "      <td>-0.002211</td>\n",
              "      <td>-0.018439</td>\n",
              "      <td>-0.104320</td>\n",
              "      <td>-0.093733</td>\n",
              "      <td>0.022076</td>\n",
              "      <td>-0.068785</td>\n",
              "      <td>-0.008249</td>\n",
              "      <td>0.035994</td>\n",
              "      <td>0.003402</td>\n",
              "      <td>0.045687</td>\n",
              "      <td>0.022252</td>\n",
              "      <td>0.040109</td>\n",
              "      <td>-0.018582</td>\n",
              "      <td>-0.015552</td>\n",
              "      <td>-0.073369</td>\n",
              "      <td>0.071967</td>\n",
              "      <td>0.047994</td>\n",
              "      <td>-0.058359</td>\n",
              "      <td>-0.092546</td>\n",
              "      <td>0.072135</td>\n",
              "      <td>-0.056818</td>\n",
              "      <td>0.023634</td>\n",
              "      <td>0.057031</td>\n",
              "      <td>0.001269</td>\n",
              "      <td>-0.025022</td>\n",
              "      <td>0.067994</td>\n",
              "      <td>-0.043749</td>\n",
              "      <td>-0.061399</td>\n",
              "      <td>0.027765</td>\n",
              "      <td>0.067574</td>\n",
              "      <td>0.009847</td>\n",
              "      <td>-0.048220</td>\n",
              "      <td>...</td>\n",
              "      <td>-0.014129</td>\n",
              "      <td>-0.019812</td>\n",
              "      <td>-0.073252</td>\n",
              "      <td>-0.013735</td>\n",
              "      <td>0.006225</td>\n",
              "      <td>0.050463</td>\n",
              "      <td>0.121089</td>\n",
              "      <td>0.028607</td>\n",
              "      <td>-0.093936</td>\n",
              "      <td>-0.043502</td>\n",
              "      <td>-0.044143</td>\n",
              "      <td>0.003738</td>\n",
              "      <td>-0.030911</td>\n",
              "      <td>0.104205</td>\n",
              "      <td>0.018293</td>\n",
              "      <td>-0.074929</td>\n",
              "      <td>-0.067955</td>\n",
              "      <td>0.054901</td>\n",
              "      <td>-0.072112</td>\n",
              "      <td>0.075509</td>\n",
              "      <td>-0.111001</td>\n",
              "      <td>0.045388</td>\n",
              "      <td>-0.015561</td>\n",
              "      <td>0.079775</td>\n",
              "      <td>-0.011075</td>\n",
              "      <td>0.027313</td>\n",
              "      <td>0.003717</td>\n",
              "      <td>0.012534</td>\n",
              "      <td>-0.040978</td>\n",
              "      <td>-0.026616</td>\n",
              "      <td>0.001376</td>\n",
              "      <td>0.006628</td>\n",
              "      <td>-0.008752</td>\n",
              "      <td>0.073028</td>\n",
              "      <td>-0.017814</td>\n",
              "      <td>0.002193</td>\n",
              "      <td>-0.034276</td>\n",
              "      <td>-0.001955</td>\n",
              "      <td>0.071992</td>\n",
              "      <td>0.064970</td>\n",
              "    </tr>\n",
              "    <tr>\n",
              "      <th>398</th>\n",
              "      <td>0.036283</td>\n",
              "      <td>0.012143</td>\n",
              "      <td>0.016590</td>\n",
              "      <td>0.029096</td>\n",
              "      <td>0.062306</td>\n",
              "      <td>-0.033858</td>\n",
              "      <td>-0.139387</td>\n",
              "      <td>-0.030289</td>\n",
              "      <td>-0.005723</td>\n",
              "      <td>-0.005554</td>\n",
              "      <td>-0.094479</td>\n",
              "      <td>-0.093872</td>\n",
              "      <td>0.020689</td>\n",
              "      <td>-0.056924</td>\n",
              "      <td>-0.011736</td>\n",
              "      <td>0.030602</td>\n",
              "      <td>-0.011598</td>\n",
              "      <td>0.042100</td>\n",
              "      <td>0.010483</td>\n",
              "      <td>0.030066</td>\n",
              "      <td>-0.009107</td>\n",
              "      <td>-0.020777</td>\n",
              "      <td>-0.060584</td>\n",
              "      <td>0.074106</td>\n",
              "      <td>0.049216</td>\n",
              "      <td>-0.058616</td>\n",
              "      <td>-0.120157</td>\n",
              "      <td>0.062919</td>\n",
              "      <td>-0.064839</td>\n",
              "      <td>0.009100</td>\n",
              "      <td>0.074625</td>\n",
              "      <td>-0.004083</td>\n",
              "      <td>-0.038012</td>\n",
              "      <td>0.066440</td>\n",
              "      <td>-0.049054</td>\n",
              "      <td>-0.047419</td>\n",
              "      <td>0.070583</td>\n",
              "      <td>0.059282</td>\n",
              "      <td>-0.006485</td>\n",
              "      <td>-0.047631</td>\n",
              "      <td>...</td>\n",
              "      <td>0.027967</td>\n",
              "      <td>0.087726</td>\n",
              "      <td>-0.000861</td>\n",
              "      <td>0.063341</td>\n",
              "      <td>-0.012530</td>\n",
              "      <td>-0.051259</td>\n",
              "      <td>-0.090475</td>\n",
              "      <td>0.024662</td>\n",
              "      <td>0.006610</td>\n",
              "      <td>-0.003589</td>\n",
              "      <td>0.049007</td>\n",
              "      <td>0.032530</td>\n",
              "      <td>-0.028706</td>\n",
              "      <td>-0.083540</td>\n",
              "      <td>-0.013733</td>\n",
              "      <td>0.124899</td>\n",
              "      <td>0.072162</td>\n",
              "      <td>-0.083029</td>\n",
              "      <td>0.033949</td>\n",
              "      <td>0.008466</td>\n",
              "      <td>-0.002717</td>\n",
              "      <td>0.067336</td>\n",
              "      <td>0.072336</td>\n",
              "      <td>-0.009262</td>\n",
              "      <td>-0.088259</td>\n",
              "      <td>0.141825</td>\n",
              "      <td>-0.103124</td>\n",
              "      <td>0.080113</td>\n",
              "      <td>-0.029868</td>\n",
              "      <td>-0.101647</td>\n",
              "      <td>0.018310</td>\n",
              "      <td>-0.114208</td>\n",
              "      <td>0.013185</td>\n",
              "      <td>-0.070010</td>\n",
              "      <td>-0.040394</td>\n",
              "      <td>0.068676</td>\n",
              "      <td>0.021774</td>\n",
              "      <td>-0.087189</td>\n",
              "      <td>0.014140</td>\n",
              "      <td>-0.132110</td>\n",
              "    </tr>\n",
              "    <tr>\n",
              "      <th>399</th>\n",
              "      <td>0.039750</td>\n",
              "      <td>0.009425</td>\n",
              "      <td>0.019876</td>\n",
              "      <td>0.022607</td>\n",
              "      <td>0.065786</td>\n",
              "      <td>-0.028217</td>\n",
              "      <td>-0.130658</td>\n",
              "      <td>-0.036289</td>\n",
              "      <td>-0.012563</td>\n",
              "      <td>0.000121</td>\n",
              "      <td>-0.082426</td>\n",
              "      <td>-0.085309</td>\n",
              "      <td>0.027471</td>\n",
              "      <td>-0.053234</td>\n",
              "      <td>-0.015518</td>\n",
              "      <td>0.029752</td>\n",
              "      <td>-0.021997</td>\n",
              "      <td>0.039767</td>\n",
              "      <td>0.004220</td>\n",
              "      <td>0.021530</td>\n",
              "      <td>-0.002666</td>\n",
              "      <td>-0.024712</td>\n",
              "      <td>-0.042417</td>\n",
              "      <td>0.073983</td>\n",
              "      <td>0.048395</td>\n",
              "      <td>-0.058387</td>\n",
              "      <td>-0.124353</td>\n",
              "      <td>0.055154</td>\n",
              "      <td>-0.062483</td>\n",
              "      <td>0.010049</td>\n",
              "      <td>0.064105</td>\n",
              "      <td>-0.015830</td>\n",
              "      <td>-0.032889</td>\n",
              "      <td>0.059801</td>\n",
              "      <td>-0.037643</td>\n",
              "      <td>-0.037603</td>\n",
              "      <td>0.093950</td>\n",
              "      <td>0.056009</td>\n",
              "      <td>-0.018934</td>\n",
              "      <td>-0.034578</td>\n",
              "      <td>...</td>\n",
              "      <td>0.031547</td>\n",
              "      <td>-0.064691</td>\n",
              "      <td>0.090999</td>\n",
              "      <td>-0.022466</td>\n",
              "      <td>-0.013577</td>\n",
              "      <td>0.015982</td>\n",
              "      <td>-0.009286</td>\n",
              "      <td>-0.044896</td>\n",
              "      <td>0.062048</td>\n",
              "      <td>0.043494</td>\n",
              "      <td>-0.029699</td>\n",
              "      <td>-0.025416</td>\n",
              "      <td>0.027546</td>\n",
              "      <td>0.023639</td>\n",
              "      <td>-0.008333</td>\n",
              "      <td>-0.077899</td>\n",
              "      <td>-0.017964</td>\n",
              "      <td>0.002884</td>\n",
              "      <td>0.032737</td>\n",
              "      <td>-0.028355</td>\n",
              "      <td>0.014905</td>\n",
              "      <td>-0.098950</td>\n",
              "      <td>-0.056607</td>\n",
              "      <td>0.007437</td>\n",
              "      <td>0.095775</td>\n",
              "      <td>-0.134475</td>\n",
              "      <td>0.086586</td>\n",
              "      <td>-0.083473</td>\n",
              "      <td>0.046026</td>\n",
              "      <td>0.081627</td>\n",
              "      <td>-0.035865</td>\n",
              "      <td>0.050532</td>\n",
              "      <td>-0.013431</td>\n",
              "      <td>0.009465</td>\n",
              "      <td>0.021857</td>\n",
              "      <td>-0.071835</td>\n",
              "      <td>-0.030330</td>\n",
              "      <td>0.045368</td>\n",
              "      <td>-0.084276</td>\n",
              "      <td>0.027725</td>\n",
              "    </tr>\n",
              "  </tbody>\n",
              "</table>\n",
              "<p>400 rows × 400 columns</p>\n",
              "</div>"
            ],
            "text/plain": [
              "          0         1         2    ...       397       398       399\n",
              "0    0.043061  0.004999  0.115178  ...  0.006108 -0.004375  0.014329\n",
              "1    0.038428  0.011194  0.118195  ...  0.072524  0.065597  0.022550\n",
              "2    0.039149  0.013501  0.113112  ... -0.102589 -0.118204 -0.013293\n",
              "3    0.041387  0.014437  0.099112  ...  0.021809  0.111302 -0.045546\n",
              "4    0.043379  0.020105  0.070344  ...  0.017787 -0.060936  0.028291\n",
              "..        ...       ...       ...  ...       ...       ...       ...\n",
              "395  0.039429  0.019743 -0.020592  ... -0.013547 -0.080354 -0.064719\n",
              "396  0.037176  0.014714 -0.000769  ...  0.070194  0.007173  0.099121\n",
              "397  0.034909  0.013039  0.010637  ... -0.001955  0.071992  0.064970\n",
              "398  0.036283  0.012143  0.016590  ... -0.087189  0.014140 -0.132110\n",
              "399  0.039750  0.009425  0.019876  ...  0.045368 -0.084276  0.027725\n",
              "\n",
              "[400 rows x 400 columns]"
            ]
          },
          "metadata": {},
          "execution_count": 63
        }
      ]
    },
    {
      "cell_type": "code",
      "metadata": {
        "colab": {
          "base_uri": "https://localhost:8080/"
        },
        "id": "Zx1eKuWKnPeq",
        "outputId": "fcac4a7f-4586-41f9-d7ae-b20ef57079c6"
      },
      "source": [
        "eigenvalues[0:63].sum()"
      ],
      "execution_count": null,
      "outputs": [
        {
          "output_type": "execute_result",
          "data": {
            "text/plain": [
              "359.89312596657203"
            ]
          },
          "metadata": {},
          "execution_count": 66
        }
      ]
    },
    {
      "cell_type": "code",
      "metadata": {
        "id": "2fGm0jvej3Rb",
        "colab": {
          "base_uri": "https://localhost:8080/",
          "height": 372
        },
        "outputId": "1f211777-e292-4864-9608-06506cdac967"
      },
      "source": [
        "#Display graph Lm vs m\n",
        "sns.set_theme(style=\"darkgrid\")\n",
        "sns.lineplot(eigenvalues, range(1,401), color = \"blue\")\n",
        "\n",
        "plt.title(\"Eigenvalues\")\n",
        "plt.xlabel(\"Lm\")\n",
        "plt.ylabel(\"m\")"
      ],
      "execution_count": null,
      "outputs": [
        {
          "output_type": "stream",
          "name": "stderr",
          "text": [
            "/usr/local/lib/python3.7/dist-packages/seaborn/_decorators.py:43: FutureWarning: Pass the following variables as keyword args: x, y. From version 0.12, the only valid positional argument will be `data`, and passing other arguments without an explicit keyword will result in an error or misinterpretation.\n",
            "  FutureWarning\n"
          ]
        },
        {
          "output_type": "execute_result",
          "data": {
            "text/plain": [
              "Text(0, 0.5, 'm')"
            ]
          },
          "metadata": {},
          "execution_count": 55
        },
        {
          "output_type": "display_data",
          "data": {
            "image/png": "[encoded data removed]",
            "text/plain": [
              "<Figure size 432x288 with 1 Axes>"
            ]
          },
          "metadata": {}
        }
      ]
    },
    {
      "cell_type": "code",
      "metadata": {
        "id": "RWhICzMRj3UQ"
      },
      "source": [
        ""
      ],
      "execution_count": null,
      "outputs": []
    },
    {
      "cell_type": "markdown",
      "metadata": {
        "id": "sglydZ-wj3qu"
      },
      "source": [
        "#### 3.2"
      ]
    },
    {
      "cell_type": "code",
      "metadata": {
        "id": "WqdpCOCGj5Nw"
      },
      "source": [
        "#Compute PEV(m) with for loop\n",
        "#PEV(m) = (L1+....+Lm)/400\n",
        "PEV = [] #will hold the PEV values\n",
        "for m in range(0,400):\n",
        "  pevVal = sum(eigenvalues[0:(m+1)])/400\n",
        "  PEV.append(pevVal)\n"
      ],
      "execution_count": null,
      "outputs": []
    },
    {
      "cell_type": "code",
      "metadata": {
        "id": "mHoBcUMKj5Qi",
        "colab": {
          "base_uri": "https://localhost:8080/",
          "height": 318
        },
        "outputId": "179cf878-ef37-4a4e-8e94-3baab5ab9338"
      },
      "source": [
        "#Graph PEV(m) vs m\n",
        "#plt.plot(range(1,401),PEV)\n",
        "sns.set_theme(style=\"darkgrid\")\n",
        "sns.lineplot(y = PEV, x = range(1,401), color = \"blue\")\n",
        "\n",
        "plt.title(\"Percentage of Explained Variance\")\n",
        "plt.xlabel(\"m\")\n",
        "plt.ylabel(\"PEV\")"
      ],
      "execution_count": null,
      "outputs": [
        {
          "output_type": "execute_result",
          "data": {
            "text/plain": [
              "Text(0, 0.5, 'PEV')"
            ]
          },
          "metadata": {},
          "execution_count": 72
        },
        {
          "output_type": "display_data",
          "data": {
            "image/png": "[encoded data removed]",
            "text/plain": [
              "<Figure size 432x288 with 1 Axes>"
            ]
          },
          "metadata": {}
        }
      ]
    },
    {
      "cell_type": "code",
      "metadata": {
        "id": "qNoUTJkDfCit"
      },
      "source": [
        "#Sort eigenvalues\n",
        "eigenvalues = np.sort(eigenvalues)[::-1] #Sorts the eigenvalues in decreasing order\n",
        "index = np.argsort(-eigenvalues) #Index for the sorted eigenvalues"
      ],
      "execution_count": null,
      "outputs": []
    },
    {
      "cell_type": "code",
      "metadata": {
        "id": "6-KAZop-j5TS",
        "colab": {
          "base_uri": "https://localhost:8080/"
        },
        "outputId": "a524f9b8-1ffa-4815-cae2-f7288f74827d"
      },
      "source": [
        "#Compute the smallest integer r so that PEV(r)>=90%\n",
        "for i in range(0,400):\n",
        "  if (PEV[i] >= 0.9):\n",
        "    print('The smallest integer r so that PEV(r)>=90% is:', i)\n",
        "    break"
      ],
      "execution_count": null,
      "outputs": [
        {
          "output_type": "stream",
          "name": "stdout",
          "text": [
            "The smallest integer r so that PEV(r)>=90% is: 63\n"
          ]
        }
      ]
    },
    {
      "cell_type": "code",
      "metadata": {
        "id": "WxCtNpnwj5Wt"
      },
      "source": [
        ""
      ],
      "execution_count": null,
      "outputs": []
    },
    {
      "cell_type": "markdown",
      "metadata": {
        "id": "Hto0ayifj6eN"
      },
      "source": [
        "#### 3.3"
      ]
    },
    {
      "cell_type": "code",
      "metadata": {
        "id": "rXrN123lj7q3"
      },
      "source": [
        "#Calculate PCA\n"
      ],
      "execution_count": null,
      "outputs": []
    },
    {
      "cell_type": "code",
      "metadata": {
        "colab": {
          "base_uri": "https://localhost:8080/"
        },
        "id": "d5SFE9-Ex8jl",
        "outputId": "ad5b8f06-533f-4a33-fcbf-45dea1723044"
      },
      "source": [
        "eigenvectors"
      ],
      "execution_count": null,
      "outputs": [
        {
          "output_type": "execute_result",
          "data": {
            "text/plain": [
              "array([[ 0.04306147,  0.00499943,  0.11517813, ...,  0.00610828,\n",
              "        -0.00437456,  0.0143294 ],\n",
              "       [ 0.0384284 ,  0.01119417,  0.11819546, ...,  0.07252399,\n",
              "         0.06559677,  0.02255032],\n",
              "       [ 0.03914946,  0.01350054,  0.11311216, ..., -0.10258897,\n",
              "        -0.11820367, -0.01329255],\n",
              "       ...,\n",
              "       [ 0.03490909,  0.01303947,  0.01063654, ..., -0.00195548,\n",
              "         0.07199195,  0.06497025],\n",
              "       [ 0.03628336,  0.01214348,  0.01659012, ..., -0.08718884,\n",
              "         0.01413958, -0.13211021],\n",
              "       [ 0.03975006,  0.00942472,  0.01987556, ...,  0.04536753,\n",
              "        -0.08427618,  0.02772543]])"
            ]
          },
          "metadata": {},
          "execution_count": 78
        }
      ]
    },
    {
      "cell_type": "code",
      "metadata": {
        "id": "OdOUxsBDf_cu",
        "colab": {
          "base_uri": "https://localhost:8080/",
          "height": 439
        },
        "outputId": "14b5ac08-d18b-482c-e45b-5956fff0888f"
      },
      "source": [
        "W = eigenvectors[:, index[0:400]] #Gets the eigenvectors that correspond to the largest r \n",
        "Z = np.matmul(SDATA, W) #To transform the data set\n",
        "ZDATA = pd.DataFrame(Z) #Makes it into a data frame\n",
        "ZDATA"
      ],
      "execution_count": null,
      "outputs": [
        {
          "output_type": "execute_result",
          "data": {
            "text/html": [
              "<div>\n",
              "<style scoped>\n",
              "    .dataframe tbody tr th:only-of-type {\n",
              "        vertical-align: middle;\n",
              "    }\n",
              "\n",
              "    .dataframe tbody tr th {\n",
              "        vertical-align: top;\n",
              "    }\n",
              "\n",
              "    .dataframe thead th {\n",
              "        text-align: right;\n",
              "    }\n",
              "</style>\n",
              "<table border=\"1\" class=\"dataframe\">\n",
              "  <thead>\n",
              "    <tr style=\"text-align: right;\">\n",
              "      <th></th>\n",
              "      <th>0</th>\n",
              "      <th>1</th>\n",
              "      <th>2</th>\n",
              "      <th>3</th>\n",
              "      <th>4</th>\n",
              "      <th>5</th>\n",
              "      <th>6</th>\n",
              "      <th>7</th>\n",
              "      <th>8</th>\n",
              "      <th>9</th>\n",
              "      <th>10</th>\n",
              "      <th>11</th>\n",
              "      <th>12</th>\n",
              "      <th>13</th>\n",
              "      <th>14</th>\n",
              "      <th>15</th>\n",
              "      <th>16</th>\n",
              "      <th>17</th>\n",
              "      <th>18</th>\n",
              "      <th>19</th>\n",
              "      <th>20</th>\n",
              "      <th>21</th>\n",
              "      <th>22</th>\n",
              "      <th>23</th>\n",
              "      <th>24</th>\n",
              "      <th>25</th>\n",
              "      <th>26</th>\n",
              "      <th>27</th>\n",
              "      <th>28</th>\n",
              "      <th>29</th>\n",
              "      <th>30</th>\n",
              "      <th>31</th>\n",
              "      <th>32</th>\n",
              "      <th>33</th>\n",
              "      <th>34</th>\n",
              "      <th>35</th>\n",
              "      <th>36</th>\n",
              "      <th>37</th>\n",
              "      <th>38</th>\n",
              "      <th>39</th>\n",
              "      <th>...</th>\n",
              "      <th>360</th>\n",
              "      <th>361</th>\n",
              "      <th>362</th>\n",
              "      <th>363</th>\n",
              "      <th>364</th>\n",
              "      <th>365</th>\n",
              "      <th>366</th>\n",
              "      <th>367</th>\n",
              "      <th>368</th>\n",
              "      <th>369</th>\n",
              "      <th>370</th>\n",
              "      <th>371</th>\n",
              "      <th>372</th>\n",
              "      <th>373</th>\n",
              "      <th>374</th>\n",
              "      <th>375</th>\n",
              "      <th>376</th>\n",
              "      <th>377</th>\n",
              "      <th>378</th>\n",
              "      <th>379</th>\n",
              "      <th>380</th>\n",
              "      <th>381</th>\n",
              "      <th>382</th>\n",
              "      <th>383</th>\n",
              "      <th>384</th>\n",
              "      <th>385</th>\n",
              "      <th>386</th>\n",
              "      <th>387</th>\n",
              "      <th>388</th>\n",
              "      <th>389</th>\n",
              "      <th>390</th>\n",
              "      <th>391</th>\n",
              "      <th>392</th>\n",
              "      <th>393</th>\n",
              "      <th>394</th>\n",
              "      <th>395</th>\n",
              "      <th>396</th>\n",
              "      <th>397</th>\n",
              "      <th>398</th>\n",
              "      <th>399</th>\n",
              "    </tr>\n",
              "  </thead>\n",
              "  <tbody>\n",
              "    <tr>\n",
              "      <th>0</th>\n",
              "      <td>-10.449896</td>\n",
              "      <td>-3.876341</td>\n",
              "      <td>-1.928106</td>\n",
              "      <td>-0.244033</td>\n",
              "      <td>2.335085</td>\n",
              "      <td>-0.774345</td>\n",
              "      <td>1.332185</td>\n",
              "      <td>-1.394099</td>\n",
              "      <td>3.005314</td>\n",
              "      <td>2.759244</td>\n",
              "      <td>0.098666</td>\n",
              "      <td>0.886151</td>\n",
              "      <td>3.017889</td>\n",
              "      <td>-0.165044</td>\n",
              "      <td>-0.288989</td>\n",
              "      <td>-1.858981</td>\n",
              "      <td>-1.893795</td>\n",
              "      <td>-0.798000</td>\n",
              "      <td>0.322921</td>\n",
              "      <td>2.941778</td>\n",
              "      <td>-0.325023</td>\n",
              "      <td>0.151676</td>\n",
              "      <td>-0.033985</td>\n",
              "      <td>-2.331380</td>\n",
              "      <td>-0.288851</td>\n",
              "      <td>1.607949</td>\n",
              "      <td>0.422051</td>\n",
              "      <td>-0.847536</td>\n",
              "      <td>2.132564</td>\n",
              "      <td>0.503625</td>\n",
              "      <td>-0.322954</td>\n",
              "      <td>-0.628814</td>\n",
              "      <td>-0.274035</td>\n",
              "      <td>-0.685344</td>\n",
              "      <td>-0.775150</td>\n",
              "      <td>0.039736</td>\n",
              "      <td>-0.301041</td>\n",
              "      <td>-0.838721</td>\n",
              "      <td>0.750572</td>\n",
              "      <td>-0.719484</td>\n",
              "      <td>...</td>\n",
              "      <td>0.404209</td>\n",
              "      <td>-0.351443</td>\n",
              "      <td>0.306402</td>\n",
              "      <td>0.404982</td>\n",
              "      <td>0.018430</td>\n",
              "      <td>-0.365516</td>\n",
              "      <td>0.186561</td>\n",
              "      <td>0.061058</td>\n",
              "      <td>0.066379</td>\n",
              "      <td>-0.061479</td>\n",
              "      <td>0.005222</td>\n",
              "      <td>0.170939</td>\n",
              "      <td>-0.004034</td>\n",
              "      <td>0.056799</td>\n",
              "      <td>-0.276922</td>\n",
              "      <td>-0.130405</td>\n",
              "      <td>0.240309</td>\n",
              "      <td>0.333861</td>\n",
              "      <td>-0.139427</td>\n",
              "      <td>-0.214535</td>\n",
              "      <td>0.123064</td>\n",
              "      <td>0.257896</td>\n",
              "      <td>-0.228597</td>\n",
              "      <td>-0.220293</td>\n",
              "      <td>0.056613</td>\n",
              "      <td>0.078185</td>\n",
              "      <td>0.076707</td>\n",
              "      <td>0.297330</td>\n",
              "      <td>-0.060649</td>\n",
              "      <td>0.040424</td>\n",
              "      <td>0.344217</td>\n",
              "      <td>0.177871</td>\n",
              "      <td>-0.070321</td>\n",
              "      <td>0.149901</td>\n",
              "      <td>-0.435537</td>\n",
              "      <td>-0.187262</td>\n",
              "      <td>0.213297</td>\n",
              "      <td>0.271807</td>\n",
              "      <td>-0.133353</td>\n",
              "      <td>-0.133245</td>\n",
              "    </tr>\n",
              "    <tr>\n",
              "      <th>1</th>\n",
              "      <td>1.688791</td>\n",
              "      <td>-7.253731</td>\n",
              "      <td>2.198777</td>\n",
              "      <td>-0.736916</td>\n",
              "      <td>-3.988544</td>\n",
              "      <td>-2.588567</td>\n",
              "      <td>-2.065588</td>\n",
              "      <td>-10.543438</td>\n",
              "      <td>-2.386962</td>\n",
              "      <td>4.939758</td>\n",
              "      <td>1.181609</td>\n",
              "      <td>-3.702237</td>\n",
              "      <td>-2.593845</td>\n",
              "      <td>-2.962335</td>\n",
              "      <td>-2.196041</td>\n",
              "      <td>2.033395</td>\n",
              "      <td>1.994381</td>\n",
              "      <td>-3.847405</td>\n",
              "      <td>0.121739</td>\n",
              "      <td>2.368417</td>\n",
              "      <td>2.498943</td>\n",
              "      <td>-4.665325</td>\n",
              "      <td>2.395984</td>\n",
              "      <td>-2.397608</td>\n",
              "      <td>3.296147</td>\n",
              "      <td>-0.876381</td>\n",
              "      <td>-1.995178</td>\n",
              "      <td>2.167431</td>\n",
              "      <td>-0.698542</td>\n",
              "      <td>-0.377548</td>\n",
              "      <td>-1.016363</td>\n",
              "      <td>-1.214507</td>\n",
              "      <td>1.103021</td>\n",
              "      <td>0.174818</td>\n",
              "      <td>0.083537</td>\n",
              "      <td>0.896120</td>\n",
              "      <td>0.610999</td>\n",
              "      <td>1.059194</td>\n",
              "      <td>-0.708036</td>\n",
              "      <td>0.121889</td>\n",
              "      <td>...</td>\n",
              "      <td>0.137612</td>\n",
              "      <td>0.166124</td>\n",
              "      <td>0.167725</td>\n",
              "      <td>-0.027926</td>\n",
              "      <td>-0.066704</td>\n",
              "      <td>-0.092399</td>\n",
              "      <td>0.112707</td>\n",
              "      <td>-0.144431</td>\n",
              "      <td>-0.030921</td>\n",
              "      <td>0.068069</td>\n",
              "      <td>0.052860</td>\n",
              "      <td>-0.212673</td>\n",
              "      <td>-0.048676</td>\n",
              "      <td>-0.305791</td>\n",
              "      <td>0.067330</td>\n",
              "      <td>0.009198</td>\n",
              "      <td>0.253616</td>\n",
              "      <td>0.063309</td>\n",
              "      <td>0.025759</td>\n",
              "      <td>-0.024647</td>\n",
              "      <td>0.097610</td>\n",
              "      <td>0.109141</td>\n",
              "      <td>-0.020089</td>\n",
              "      <td>0.092400</td>\n",
              "      <td>-0.142555</td>\n",
              "      <td>0.121866</td>\n",
              "      <td>-0.118236</td>\n",
              "      <td>-0.061670</td>\n",
              "      <td>0.168765</td>\n",
              "      <td>-0.045492</td>\n",
              "      <td>-0.225469</td>\n",
              "      <td>-0.154475</td>\n",
              "      <td>0.093162</td>\n",
              "      <td>0.116424</td>\n",
              "      <td>-0.105610</td>\n",
              "      <td>0.098505</td>\n",
              "      <td>0.018195</td>\n",
              "      <td>-0.129395</td>\n",
              "      <td>0.069422</td>\n",
              "      <td>0.021908</td>\n",
              "    </tr>\n",
              "    <tr>\n",
              "      <th>2</th>\n",
              "      <td>0.696782</td>\n",
              "      <td>-6.461807</td>\n",
              "      <td>-1.542481</td>\n",
              "      <td>0.503195</td>\n",
              "      <td>-4.059120</td>\n",
              "      <td>-1.192598</td>\n",
              "      <td>-2.261575</td>\n",
              "      <td>-9.137327</td>\n",
              "      <td>0.073592</td>\n",
              "      <td>3.766237</td>\n",
              "      <td>0.947715</td>\n",
              "      <td>-4.859490</td>\n",
              "      <td>0.310597</td>\n",
              "      <td>-1.660423</td>\n",
              "      <td>-1.006068</td>\n",
              "      <td>-1.035577</td>\n",
              "      <td>2.751558</td>\n",
              "      <td>-1.758599</td>\n",
              "      <td>-0.394172</td>\n",
              "      <td>3.412013</td>\n",
              "      <td>2.573341</td>\n",
              "      <td>-5.052843</td>\n",
              "      <td>2.085462</td>\n",
              "      <td>-3.521320</td>\n",
              "      <td>4.710089</td>\n",
              "      <td>-1.848586</td>\n",
              "      <td>-2.502600</td>\n",
              "      <td>0.083452</td>\n",
              "      <td>-0.698003</td>\n",
              "      <td>0.036933</td>\n",
              "      <td>-1.134909</td>\n",
              "      <td>-2.611235</td>\n",
              "      <td>1.397552</td>\n",
              "      <td>0.641947</td>\n",
              "      <td>-0.639938</td>\n",
              "      <td>2.185656</td>\n",
              "      <td>0.721901</td>\n",
              "      <td>1.424471</td>\n",
              "      <td>-1.239333</td>\n",
              "      <td>-0.032255</td>\n",
              "      <td>...</td>\n",
              "      <td>0.088196</td>\n",
              "      <td>0.212320</td>\n",
              "      <td>0.006294</td>\n",
              "      <td>-0.070153</td>\n",
              "      <td>-0.106746</td>\n",
              "      <td>-0.147806</td>\n",
              "      <td>0.149162</td>\n",
              "      <td>0.033844</td>\n",
              "      <td>-0.013374</td>\n",
              "      <td>0.008917</td>\n",
              "      <td>-0.030446</td>\n",
              "      <td>-0.192880</td>\n",
              "      <td>-0.075067</td>\n",
              "      <td>-0.346054</td>\n",
              "      <td>0.093291</td>\n",
              "      <td>0.010265</td>\n",
              "      <td>0.173114</td>\n",
              "      <td>0.178304</td>\n",
              "      <td>0.043296</td>\n",
              "      <td>-0.120271</td>\n",
              "      <td>0.111660</td>\n",
              "      <td>0.122232</td>\n",
              "      <td>-0.140712</td>\n",
              "      <td>0.081823</td>\n",
              "      <td>-0.001038</td>\n",
              "      <td>0.050282</td>\n",
              "      <td>-0.128349</td>\n",
              "      <td>-0.119789</td>\n",
              "      <td>0.079776</td>\n",
              "      <td>-0.056706</td>\n",
              "      <td>-0.029056</td>\n",
              "      <td>-0.207333</td>\n",
              "      <td>0.106951</td>\n",
              "      <td>0.045979</td>\n",
              "      <td>-0.095283</td>\n",
              "      <td>-0.025883</td>\n",
              "      <td>-0.008325</td>\n",
              "      <td>-0.178052</td>\n",
              "      <td>-0.045900</td>\n",
              "      <td>0.003503</td>\n",
              "    </tr>\n",
              "    <tr>\n",
              "      <th>3</th>\n",
              "      <td>-5.635275</td>\n",
              "      <td>-1.136681</td>\n",
              "      <td>-2.710420</td>\n",
              "      <td>1.671669</td>\n",
              "      <td>-7.938628</td>\n",
              "      <td>2.511495</td>\n",
              "      <td>-1.795400</td>\n",
              "      <td>1.270879</td>\n",
              "      <td>-3.028997</td>\n",
              "      <td>2.093225</td>\n",
              "      <td>-1.544657</td>\n",
              "      <td>1.718882</td>\n",
              "      <td>0.730275</td>\n",
              "      <td>0.574763</td>\n",
              "      <td>1.670928</td>\n",
              "      <td>-0.058301</td>\n",
              "      <td>1.404035</td>\n",
              "      <td>-1.141038</td>\n",
              "      <td>-1.534117</td>\n",
              "      <td>-1.759513</td>\n",
              "      <td>0.180940</td>\n",
              "      <td>-1.512804</td>\n",
              "      <td>0.171555</td>\n",
              "      <td>-2.004123</td>\n",
              "      <td>-0.602419</td>\n",
              "      <td>-0.282743</td>\n",
              "      <td>-0.965014</td>\n",
              "      <td>3.009285</td>\n",
              "      <td>3.229120</td>\n",
              "      <td>-1.838098</td>\n",
              "      <td>-0.316514</td>\n",
              "      <td>-1.570119</td>\n",
              "      <td>1.920271</td>\n",
              "      <td>-1.234513</td>\n",
              "      <td>1.451371</td>\n",
              "      <td>-0.925837</td>\n",
              "      <td>2.174449</td>\n",
              "      <td>0.403012</td>\n",
              "      <td>-0.600434</td>\n",
              "      <td>0.391576</td>\n",
              "      <td>...</td>\n",
              "      <td>0.175168</td>\n",
              "      <td>-0.189585</td>\n",
              "      <td>-0.089809</td>\n",
              "      <td>0.373917</td>\n",
              "      <td>-0.230371</td>\n",
              "      <td>-0.287450</td>\n",
              "      <td>0.344569</td>\n",
              "      <td>-0.107126</td>\n",
              "      <td>-0.172376</td>\n",
              "      <td>-0.199703</td>\n",
              "      <td>0.059410</td>\n",
              "      <td>0.072856</td>\n",
              "      <td>-0.181734</td>\n",
              "      <td>0.175776</td>\n",
              "      <td>-0.462024</td>\n",
              "      <td>0.464226</td>\n",
              "      <td>0.069206</td>\n",
              "      <td>0.081357</td>\n",
              "      <td>-0.120955</td>\n",
              "      <td>-0.002632</td>\n",
              "      <td>-0.075111</td>\n",
              "      <td>-0.228525</td>\n",
              "      <td>-0.264908</td>\n",
              "      <td>-0.005578</td>\n",
              "      <td>0.131705</td>\n",
              "      <td>0.076442</td>\n",
              "      <td>0.005633</td>\n",
              "      <td>-0.043048</td>\n",
              "      <td>0.042824</td>\n",
              "      <td>0.068468</td>\n",
              "      <td>0.053815</td>\n",
              "      <td>0.125352</td>\n",
              "      <td>0.010698</td>\n",
              "      <td>-0.320756</td>\n",
              "      <td>0.120057</td>\n",
              "      <td>-0.241279</td>\n",
              "      <td>-0.098646</td>\n",
              "      <td>0.212273</td>\n",
              "      <td>-0.079508</td>\n",
              "      <td>-0.248090</td>\n",
              "    </tr>\n",
              "    <tr>\n",
              "      <th>4</th>\n",
              "      <td>-3.570199</td>\n",
              "      <td>-7.738041</td>\n",
              "      <td>6.566796</td>\n",
              "      <td>4.464545</td>\n",
              "      <td>2.053514</td>\n",
              "      <td>8.825757</td>\n",
              "      <td>-4.187059</td>\n",
              "      <td>-2.622052</td>\n",
              "      <td>-0.637158</td>\n",
              "      <td>1.058888</td>\n",
              "      <td>-3.438103</td>\n",
              "      <td>-0.144158</td>\n",
              "      <td>2.582883</td>\n",
              "      <td>-0.145281</td>\n",
              "      <td>2.593857</td>\n",
              "      <td>-4.434289</td>\n",
              "      <td>-2.926640</td>\n",
              "      <td>-1.083102</td>\n",
              "      <td>0.846987</td>\n",
              "      <td>-1.456695</td>\n",
              "      <td>2.133742</td>\n",
              "      <td>-2.125210</td>\n",
              "      <td>0.726492</td>\n",
              "      <td>-1.850255</td>\n",
              "      <td>0.283121</td>\n",
              "      <td>0.214028</td>\n",
              "      <td>-3.980669</td>\n",
              "      <td>1.507269</td>\n",
              "      <td>2.263450</td>\n",
              "      <td>1.084408</td>\n",
              "      <td>0.324066</td>\n",
              "      <td>0.087978</td>\n",
              "      <td>-0.025386</td>\n",
              "      <td>-1.370402</td>\n",
              "      <td>0.996022</td>\n",
              "      <td>-1.045095</td>\n",
              "      <td>-0.145790</td>\n",
              "      <td>0.305074</td>\n",
              "      <td>-0.337757</td>\n",
              "      <td>-0.089667</td>\n",
              "      <td>...</td>\n",
              "      <td>0.019207</td>\n",
              "      <td>-0.201258</td>\n",
              "      <td>0.138256</td>\n",
              "      <td>0.194760</td>\n",
              "      <td>-0.245375</td>\n",
              "      <td>-0.026140</td>\n",
              "      <td>0.048728</td>\n",
              "      <td>-0.078221</td>\n",
              "      <td>-0.052183</td>\n",
              "      <td>-0.194391</td>\n",
              "      <td>-0.128426</td>\n",
              "      <td>0.046835</td>\n",
              "      <td>-0.030010</td>\n",
              "      <td>-0.073689</td>\n",
              "      <td>0.116841</td>\n",
              "      <td>0.043918</td>\n",
              "      <td>0.054615</td>\n",
              "      <td>-0.072419</td>\n",
              "      <td>-0.019165</td>\n",
              "      <td>0.014017</td>\n",
              "      <td>0.046762</td>\n",
              "      <td>-0.129717</td>\n",
              "      <td>-0.130067</td>\n",
              "      <td>0.132858</td>\n",
              "      <td>-0.026544</td>\n",
              "      <td>0.270103</td>\n",
              "      <td>0.136218</td>\n",
              "      <td>0.147922</td>\n",
              "      <td>0.044656</td>\n",
              "      <td>0.171271</td>\n",
              "      <td>0.138724</td>\n",
              "      <td>0.190565</td>\n",
              "      <td>-0.153634</td>\n",
              "      <td>0.041229</td>\n",
              "      <td>0.205695</td>\n",
              "      <td>-0.200808</td>\n",
              "      <td>-0.017802</td>\n",
              "      <td>0.003647</td>\n",
              "      <td>0.117461</td>\n",
              "      <td>-0.206123</td>\n",
              "    </tr>\n",
              "    <tr>\n",
              "      <th>...</th>\n",
              "      <td>...</td>\n",
              "      <td>...</td>\n",
              "      <td>...</td>\n",
              "      <td>...</td>\n",
              "      <td>...</td>\n",
              "      <td>...</td>\n",
              "      <td>...</td>\n",
              "      <td>...</td>\n",
              "      <td>...</td>\n",
              "      <td>...</td>\n",
              "      <td>...</td>\n",
              "      <td>...</td>\n",
              "      <td>...</td>\n",
              "      <td>...</td>\n",
              "      <td>...</td>\n",
              "      <td>...</td>\n",
              "      <td>...</td>\n",
              "      <td>...</td>\n",
              "      <td>...</td>\n",
              "      <td>...</td>\n",
              "      <td>...</td>\n",
              "      <td>...</td>\n",
              "      <td>...</td>\n",
              "      <td>...</td>\n",
              "      <td>...</td>\n",
              "      <td>...</td>\n",
              "      <td>...</td>\n",
              "      <td>...</td>\n",
              "      <td>...</td>\n",
              "      <td>...</td>\n",
              "      <td>...</td>\n",
              "      <td>...</td>\n",
              "      <td>...</td>\n",
              "      <td>...</td>\n",
              "      <td>...</td>\n",
              "      <td>...</td>\n",
              "      <td>...</td>\n",
              "      <td>...</td>\n",
              "      <td>...</td>\n",
              "      <td>...</td>\n",
              "      <td>...</td>\n",
              "      <td>...</td>\n",
              "      <td>...</td>\n",
              "      <td>...</td>\n",
              "      <td>...</td>\n",
              "      <td>...</td>\n",
              "      <td>...</td>\n",
              "      <td>...</td>\n",
              "      <td>...</td>\n",
              "      <td>...</td>\n",
              "      <td>...</td>\n",
              "      <td>...</td>\n",
              "      <td>...</td>\n",
              "      <td>...</td>\n",
              "      <td>...</td>\n",
              "      <td>...</td>\n",
              "      <td>...</td>\n",
              "      <td>...</td>\n",
              "      <td>...</td>\n",
              "      <td>...</td>\n",
              "      <td>...</td>\n",
              "      <td>...</td>\n",
              "      <td>...</td>\n",
              "      <td>...</td>\n",
              "      <td>...</td>\n",
              "      <td>...</td>\n",
              "      <td>...</td>\n",
              "      <td>...</td>\n",
              "      <td>...</td>\n",
              "      <td>...</td>\n",
              "      <td>...</td>\n",
              "      <td>...</td>\n",
              "      <td>...</td>\n",
              "      <td>...</td>\n",
              "      <td>...</td>\n",
              "      <td>...</td>\n",
              "      <td>...</td>\n",
              "      <td>...</td>\n",
              "      <td>...</td>\n",
              "      <td>...</td>\n",
              "      <td>...</td>\n",
              "    </tr>\n",
              "    <tr>\n",
              "      <th>15848</th>\n",
              "      <td>-5.060230</td>\n",
              "      <td>1.358075</td>\n",
              "      <td>1.938343</td>\n",
              "      <td>1.828617</td>\n",
              "      <td>0.529063</td>\n",
              "      <td>1.862519</td>\n",
              "      <td>-3.609047</td>\n",
              "      <td>-2.600705</td>\n",
              "      <td>3.122706</td>\n",
              "      <td>-2.906446</td>\n",
              "      <td>-1.922741</td>\n",
              "      <td>0.015101</td>\n",
              "      <td>1.143295</td>\n",
              "      <td>-0.013771</td>\n",
              "      <td>-0.382657</td>\n",
              "      <td>-4.152671</td>\n",
              "      <td>-4.487927</td>\n",
              "      <td>0.224859</td>\n",
              "      <td>4.404953</td>\n",
              "      <td>3.721944</td>\n",
              "      <td>-3.453416</td>\n",
              "      <td>-1.385991</td>\n",
              "      <td>1.247589</td>\n",
              "      <td>0.568258</td>\n",
              "      <td>-0.516626</td>\n",
              "      <td>1.628300</td>\n",
              "      <td>1.026326</td>\n",
              "      <td>2.409541</td>\n",
              "      <td>1.191742</td>\n",
              "      <td>1.083491</td>\n",
              "      <td>-3.279942</td>\n",
              "      <td>0.233890</td>\n",
              "      <td>3.526060</td>\n",
              "      <td>-1.466357</td>\n",
              "      <td>0.442565</td>\n",
              "      <td>1.089475</td>\n",
              "      <td>0.922254</td>\n",
              "      <td>0.003287</td>\n",
              "      <td>0.547621</td>\n",
              "      <td>0.195177</td>\n",
              "      <td>...</td>\n",
              "      <td>-0.162922</td>\n",
              "      <td>-0.369922</td>\n",
              "      <td>0.100680</td>\n",
              "      <td>0.287684</td>\n",
              "      <td>-0.457519</td>\n",
              "      <td>0.095872</td>\n",
              "      <td>0.364718</td>\n",
              "      <td>-0.342705</td>\n",
              "      <td>-0.027623</td>\n",
              "      <td>0.082311</td>\n",
              "      <td>-0.383736</td>\n",
              "      <td>0.062616</td>\n",
              "      <td>-0.070270</td>\n",
              "      <td>-0.199946</td>\n",
              "      <td>-0.335489</td>\n",
              "      <td>0.138752</td>\n",
              "      <td>0.239834</td>\n",
              "      <td>0.332007</td>\n",
              "      <td>0.067439</td>\n",
              "      <td>0.105141</td>\n",
              "      <td>-0.024420</td>\n",
              "      <td>0.094900</td>\n",
              "      <td>-0.117110</td>\n",
              "      <td>0.057529</td>\n",
              "      <td>0.079074</td>\n",
              "      <td>0.111102</td>\n",
              "      <td>-0.036093</td>\n",
              "      <td>-0.120317</td>\n",
              "      <td>-0.252860</td>\n",
              "      <td>0.244459</td>\n",
              "      <td>0.315743</td>\n",
              "      <td>0.079946</td>\n",
              "      <td>0.047102</td>\n",
              "      <td>-0.187589</td>\n",
              "      <td>-0.142783</td>\n",
              "      <td>-0.436435</td>\n",
              "      <td>-0.177761</td>\n",
              "      <td>-0.117341</td>\n",
              "      <td>-0.055188</td>\n",
              "      <td>0.191554</td>\n",
              "    </tr>\n",
              "    <tr>\n",
              "      <th>15849</th>\n",
              "      <td>-2.287214</td>\n",
              "      <td>3.074638</td>\n",
              "      <td>1.684800</td>\n",
              "      <td>1.209493</td>\n",
              "      <td>0.300323</td>\n",
              "      <td>6.933173</td>\n",
              "      <td>4.916953</td>\n",
              "      <td>-0.069082</td>\n",
              "      <td>3.266466</td>\n",
              "      <td>0.160494</td>\n",
              "      <td>0.713612</td>\n",
              "      <td>-1.749572</td>\n",
              "      <td>-4.046239</td>\n",
              "      <td>5.479472</td>\n",
              "      <td>-0.260832</td>\n",
              "      <td>3.152280</td>\n",
              "      <td>1.342930</td>\n",
              "      <td>3.774127</td>\n",
              "      <td>-3.046364</td>\n",
              "      <td>-2.261779</td>\n",
              "      <td>0.570938</td>\n",
              "      <td>-3.254158</td>\n",
              "      <td>0.593608</td>\n",
              "      <td>1.896828</td>\n",
              "      <td>-0.072268</td>\n",
              "      <td>-1.749617</td>\n",
              "      <td>1.136641</td>\n",
              "      <td>2.439510</td>\n",
              "      <td>1.572722</td>\n",
              "      <td>0.341241</td>\n",
              "      <td>-0.489250</td>\n",
              "      <td>-0.818490</td>\n",
              "      <td>0.441049</td>\n",
              "      <td>2.208065</td>\n",
              "      <td>3.707372</td>\n",
              "      <td>-1.310658</td>\n",
              "      <td>2.323645</td>\n",
              "      <td>1.292304</td>\n",
              "      <td>1.028743</td>\n",
              "      <td>-1.639068</td>\n",
              "      <td>...</td>\n",
              "      <td>0.027940</td>\n",
              "      <td>-0.134385</td>\n",
              "      <td>-0.300966</td>\n",
              "      <td>-0.145368</td>\n",
              "      <td>-0.014630</td>\n",
              "      <td>0.004491</td>\n",
              "      <td>0.063450</td>\n",
              "      <td>-0.121759</td>\n",
              "      <td>0.137255</td>\n",
              "      <td>0.057659</td>\n",
              "      <td>-0.208158</td>\n",
              "      <td>-0.061837</td>\n",
              "      <td>-0.058736</td>\n",
              "      <td>-0.284092</td>\n",
              "      <td>0.255218</td>\n",
              "      <td>0.263747</td>\n",
              "      <td>0.123829</td>\n",
              "      <td>-0.090599</td>\n",
              "      <td>0.131509</td>\n",
              "      <td>0.213664</td>\n",
              "      <td>-0.204786</td>\n",
              "      <td>-0.002903</td>\n",
              "      <td>0.069046</td>\n",
              "      <td>-0.042921</td>\n",
              "      <td>0.079686</td>\n",
              "      <td>0.204010</td>\n",
              "      <td>-0.197729</td>\n",
              "      <td>0.090289</td>\n",
              "      <td>-0.079959</td>\n",
              "      <td>0.010937</td>\n",
              "      <td>-0.041943</td>\n",
              "      <td>-0.029061</td>\n",
              "      <td>0.065235</td>\n",
              "      <td>-0.154674</td>\n",
              "      <td>-0.164729</td>\n",
              "      <td>0.301565</td>\n",
              "      <td>0.067489</td>\n",
              "      <td>-0.137502</td>\n",
              "      <td>0.303002</td>\n",
              "      <td>0.061102</td>\n",
              "    </tr>\n",
              "    <tr>\n",
              "      <th>15850</th>\n",
              "      <td>-4.609847</td>\n",
              "      <td>5.217103</td>\n",
              "      <td>-2.577030</td>\n",
              "      <td>1.464077</td>\n",
              "      <td>-4.244904</td>\n",
              "      <td>2.856843</td>\n",
              "      <td>0.346347</td>\n",
              "      <td>1.048206</td>\n",
              "      <td>-3.013229</td>\n",
              "      <td>2.704134</td>\n",
              "      <td>-0.899457</td>\n",
              "      <td>0.822650</td>\n",
              "      <td>1.552019</td>\n",
              "      <td>-0.506205</td>\n",
              "      <td>1.443448</td>\n",
              "      <td>-0.781212</td>\n",
              "      <td>-1.071039</td>\n",
              "      <td>-2.251638</td>\n",
              "      <td>-2.303470</td>\n",
              "      <td>-2.287018</td>\n",
              "      <td>3.594499</td>\n",
              "      <td>0.463330</td>\n",
              "      <td>-0.335709</td>\n",
              "      <td>-1.676137</td>\n",
              "      <td>0.914890</td>\n",
              "      <td>-0.747113</td>\n",
              "      <td>-1.418495</td>\n",
              "      <td>-0.534454</td>\n",
              "      <td>0.580852</td>\n",
              "      <td>0.112303</td>\n",
              "      <td>1.549581</td>\n",
              "      <td>-0.092805</td>\n",
              "      <td>-3.939266</td>\n",
              "      <td>-0.167164</td>\n",
              "      <td>2.196347</td>\n",
              "      <td>0.556610</td>\n",
              "      <td>-3.393680</td>\n",
              "      <td>1.174453</td>\n",
              "      <td>-0.480659</td>\n",
              "      <td>-0.669210</td>\n",
              "      <td>...</td>\n",
              "      <td>-0.176903</td>\n",
              "      <td>0.320427</td>\n",
              "      <td>-0.173101</td>\n",
              "      <td>-0.052441</td>\n",
              "      <td>0.104587</td>\n",
              "      <td>0.196432</td>\n",
              "      <td>0.099284</td>\n",
              "      <td>-0.219746</td>\n",
              "      <td>0.515402</td>\n",
              "      <td>0.036712</td>\n",
              "      <td>-0.182951</td>\n",
              "      <td>0.372052</td>\n",
              "      <td>0.340359</td>\n",
              "      <td>-0.000638</td>\n",
              "      <td>-0.166683</td>\n",
              "      <td>-0.267233</td>\n",
              "      <td>-0.214499</td>\n",
              "      <td>0.132872</td>\n",
              "      <td>-0.071340</td>\n",
              "      <td>-0.011711</td>\n",
              "      <td>-0.012748</td>\n",
              "      <td>-0.020263</td>\n",
              "      <td>-0.028221</td>\n",
              "      <td>0.088940</td>\n",
              "      <td>-0.151926</td>\n",
              "      <td>-0.163518</td>\n",
              "      <td>-0.091402</td>\n",
              "      <td>0.111354</td>\n",
              "      <td>0.087631</td>\n",
              "      <td>0.109219</td>\n",
              "      <td>0.049416</td>\n",
              "      <td>0.012734</td>\n",
              "      <td>-0.159370</td>\n",
              "      <td>0.105190</td>\n",
              "      <td>0.396501</td>\n",
              "      <td>0.133344</td>\n",
              "      <td>0.130635</td>\n",
              "      <td>-0.238768</td>\n",
              "      <td>-0.223670</td>\n",
              "      <td>0.002200</td>\n",
              "    </tr>\n",
              "    <tr>\n",
              "      <th>15851</th>\n",
              "      <td>10.944280</td>\n",
              "      <td>-9.639989</td>\n",
              "      <td>3.668699</td>\n",
              "      <td>0.024544</td>\n",
              "      <td>-8.662512</td>\n",
              "      <td>-4.093154</td>\n",
              "      <td>-7.179596</td>\n",
              "      <td>0.501218</td>\n",
              "      <td>-0.734989</td>\n",
              "      <td>1.688133</td>\n",
              "      <td>-1.770462</td>\n",
              "      <td>2.546185</td>\n",
              "      <td>0.778529</td>\n",
              "      <td>0.242016</td>\n",
              "      <td>0.639231</td>\n",
              "      <td>1.631374</td>\n",
              "      <td>2.284882</td>\n",
              "      <td>0.583300</td>\n",
              "      <td>1.333224</td>\n",
              "      <td>0.326881</td>\n",
              "      <td>-1.031088</td>\n",
              "      <td>0.274244</td>\n",
              "      <td>-1.293248</td>\n",
              "      <td>-0.739632</td>\n",
              "      <td>-0.352592</td>\n",
              "      <td>1.185782</td>\n",
              "      <td>1.035083</td>\n",
              "      <td>0.797008</td>\n",
              "      <td>1.207403</td>\n",
              "      <td>-1.162002</td>\n",
              "      <td>-0.532803</td>\n",
              "      <td>0.038913</td>\n",
              "      <td>0.362843</td>\n",
              "      <td>-0.254023</td>\n",
              "      <td>-1.004856</td>\n",
              "      <td>-1.263043</td>\n",
              "      <td>0.213835</td>\n",
              "      <td>0.435736</td>\n",
              "      <td>2.760064</td>\n",
              "      <td>0.105203</td>\n",
              "      <td>...</td>\n",
              "      <td>0.087997</td>\n",
              "      <td>0.045108</td>\n",
              "      <td>-0.055273</td>\n",
              "      <td>-0.004081</td>\n",
              "      <td>0.120231</td>\n",
              "      <td>-0.113226</td>\n",
              "      <td>0.081974</td>\n",
              "      <td>-0.095898</td>\n",
              "      <td>0.004556</td>\n",
              "      <td>-0.098954</td>\n",
              "      <td>0.028536</td>\n",
              "      <td>0.052120</td>\n",
              "      <td>-0.082510</td>\n",
              "      <td>-0.173203</td>\n",
              "      <td>-0.159839</td>\n",
              "      <td>0.178667</td>\n",
              "      <td>-0.059478</td>\n",
              "      <td>-0.003804</td>\n",
              "      <td>-0.044993</td>\n",
              "      <td>0.062761</td>\n",
              "      <td>-0.072079</td>\n",
              "      <td>0.101877</td>\n",
              "      <td>0.086748</td>\n",
              "      <td>0.054257</td>\n",
              "      <td>-0.107781</td>\n",
              "      <td>0.019425</td>\n",
              "      <td>-0.096620</td>\n",
              "      <td>-0.010258</td>\n",
              "      <td>0.079858</td>\n",
              "      <td>0.020455</td>\n",
              "      <td>0.025718</td>\n",
              "      <td>-0.119845</td>\n",
              "      <td>0.021527</td>\n",
              "      <td>-0.111273</td>\n",
              "      <td>-0.084672</td>\n",
              "      <td>0.147460</td>\n",
              "      <td>0.020078</td>\n",
              "      <td>-0.174177</td>\n",
              "      <td>0.303621</td>\n",
              "      <td>-0.078025</td>\n",
              "    </tr>\n",
              "    <tr>\n",
              "      <th>15852</th>\n",
              "      <td>15.459046</td>\n",
              "      <td>10.007066</td>\n",
              "      <td>4.598529</td>\n",
              "      <td>-1.238654</td>\n",
              "      <td>-1.946997</td>\n",
              "      <td>-4.889032</td>\n",
              "      <td>-2.587112</td>\n",
              "      <td>-0.138777</td>\n",
              "      <td>0.408495</td>\n",
              "      <td>0.975673</td>\n",
              "      <td>1.698610</td>\n",
              "      <td>-2.590683</td>\n",
              "      <td>5.306367</td>\n",
              "      <td>-2.763234</td>\n",
              "      <td>2.010645</td>\n",
              "      <td>4.451483</td>\n",
              "      <td>0.682688</td>\n",
              "      <td>-0.168962</td>\n",
              "      <td>5.796456</td>\n",
              "      <td>-4.121181</td>\n",
              "      <td>0.358706</td>\n",
              "      <td>-0.282049</td>\n",
              "      <td>-1.328524</td>\n",
              "      <td>-2.769523</td>\n",
              "      <td>-1.086680</td>\n",
              "      <td>-2.542565</td>\n",
              "      <td>-0.866270</td>\n",
              "      <td>0.158129</td>\n",
              "      <td>-0.024874</td>\n",
              "      <td>1.865955</td>\n",
              "      <td>-0.743596</td>\n",
              "      <td>0.038649</td>\n",
              "      <td>-1.439678</td>\n",
              "      <td>1.203650</td>\n",
              "      <td>-0.030121</td>\n",
              "      <td>-0.319012</td>\n",
              "      <td>0.664187</td>\n",
              "      <td>-0.710323</td>\n",
              "      <td>0.955701</td>\n",
              "      <td>1.177192</td>\n",
              "      <td>...</td>\n",
              "      <td>0.026799</td>\n",
              "      <td>0.039984</td>\n",
              "      <td>-0.049474</td>\n",
              "      <td>-0.019395</td>\n",
              "      <td>-0.191148</td>\n",
              "      <td>-0.069732</td>\n",
              "      <td>0.062407</td>\n",
              "      <td>-0.065894</td>\n",
              "      <td>-0.046210</td>\n",
              "      <td>0.000502</td>\n",
              "      <td>0.000642</td>\n",
              "      <td>0.022540</td>\n",
              "      <td>0.073449</td>\n",
              "      <td>-0.058914</td>\n",
              "      <td>0.080042</td>\n",
              "      <td>-0.075522</td>\n",
              "      <td>0.086176</td>\n",
              "      <td>0.012185</td>\n",
              "      <td>-0.027604</td>\n",
              "      <td>0.016255</td>\n",
              "      <td>0.006514</td>\n",
              "      <td>0.028587</td>\n",
              "      <td>-0.027212</td>\n",
              "      <td>0.073445</td>\n",
              "      <td>-0.110903</td>\n",
              "      <td>0.071671</td>\n",
              "      <td>-0.020340</td>\n",
              "      <td>-0.005056</td>\n",
              "      <td>-0.086018</td>\n",
              "      <td>-0.006159</td>\n",
              "      <td>-0.028195</td>\n",
              "      <td>0.003807</td>\n",
              "      <td>0.030765</td>\n",
              "      <td>0.035561</td>\n",
              "      <td>-0.137166</td>\n",
              "      <td>0.045797</td>\n",
              "      <td>-0.033530</td>\n",
              "      <td>-0.009743</td>\n",
              "      <td>-0.035827</td>\n",
              "      <td>0.043649</td>\n",
              "    </tr>\n",
              "  </tbody>\n",
              "</table>\n",
              "<p>15853 rows × 400 columns</p>\n",
              "</div>"
            ],
            "text/plain": [
              "             0          1         2    ...       397       398       399\n",
              "0     -10.449896  -3.876341 -1.928106  ...  0.271807 -0.133353 -0.133245\n",
              "1       1.688791  -7.253731  2.198777  ... -0.129395  0.069422  0.021908\n",
              "2       0.696782  -6.461807 -1.542481  ... -0.178052 -0.045900  0.003503\n",
              "3      -5.635275  -1.136681 -2.710420  ...  0.212273 -0.079508 -0.248090\n",
              "4      -3.570199  -7.738041  6.566796  ...  0.003647  0.117461 -0.206123\n",
              "...          ...        ...       ...  ...       ...       ...       ...\n",
              "15848  -5.060230   1.358075  1.938343  ... -0.117341 -0.055188  0.191554\n",
              "15849  -2.287214   3.074638  1.684800  ... -0.137502  0.303002  0.061102\n",
              "15850  -4.609847   5.217103 -2.577030  ... -0.238768 -0.223670  0.002200\n",
              "15851  10.944280  -9.639989  3.668699  ... -0.174177  0.303621 -0.078025\n",
              "15852  15.459046  10.007066  4.598529  ... -0.009743 -0.035827  0.043649\n",
              "\n",
              "[15853 rows x 400 columns]"
            ]
          },
          "metadata": {},
          "execution_count": 80
        }
      ]
    },
    {
      "cell_type": "code",
      "metadata": {
        "id": "P_uqttoKj7uz"
      },
      "source": [
        "ZDATA.drop(ZDATA.iloc[:,73:400], axis=1, inplace=True)\n",
        "ZDATA"
      ],
      "execution_count": null,
      "outputs": []
    },
    {
      "cell_type": "code",
      "metadata": {
        "id": "FR28uQurj7wk"
      },
      "source": [
        ""
      ],
      "execution_count": null,
      "outputs": []
    },
    {
      "cell_type": "code",
      "metadata": {
        "id": "2bzznGo3j7zH"
      },
      "source": [
        ""
      ],
      "execution_count": null,
      "outputs": []
    },
    {
      "cell_type": "markdown",
      "metadata": {
        "id": "iF6rgdSEVL_L"
      },
      "source": [
        "#### 3.4"
      ]
    },
    {
      "cell_type": "code",
      "metadata": {
        "id": "ETQPnrbbxS2o"
      },
      "source": [
        "\n",
        "bound_ZDATA = pd.concat([TRUC, ZDATA], axis=1, ignore_index=True)\n",
        "ZCL1 = bound_ZDATA[bound_ZDATA[0] == 'lucida']\n",
        "ZCL2 = bound_ZDATA[bound_ZDATA[0] == 'TIMES']\n",
        "ZCL3 = bound_ZDATA[bound_ZDATA[0] == 'frank']\n",
        "ZCL4 = bound_ZDATA[bound_ZDATA[0] == 'TAHOMA']"
      ],
      "execution_count": null,
      "outputs": []
    },
    {
      "cell_type": "code",
      "metadata": {
        "id": "TarOp_GGxbD2"
      },
      "source": [
        "ZCL1X = ZCL1.drop(columns=[0])\n",
        "ZCL1Y = ZCL1[0]\n",
        "ZCL2X = ZCL2.drop(columns=[0])\n",
        "ZCL2Y = ZCL2[0]\n",
        "ZCL3X = ZCL3.drop(columns=[0])\n",
        "ZCL3Y = ZCL3[0]\n",
        "ZCL4X = ZCL4.drop(columns=[0])\n",
        "ZCL4Y = ZCL4[0]"
      ],
      "execution_count": null,
      "outputs": []
    },
    {
      "cell_type": "code",
      "metadata": {
        "id": "BN3kkZ6rxfhI"
      },
      "source": [
        "#Split into train and test sets\n",
        "ZCL1X_train, ZCL1X_test, ZCL1Y_train, ZCL1Y_test = train_test_split(ZCL1X,ZCL1Y, test_size=0.2, random_state=123)\n",
        "ZCL2X_train, ZCL2X_test, ZCL2Y_train, ZCL2Y_test = train_test_split(ZCL2X,ZCL2Y, test_size=0.2, random_state=123)\n",
        "ZCL3X_train, ZCL3X_test, ZCL3Y_train, ZCL3Y_test = train_test_split(ZCL3X,ZCL3Y, test_size=0.2, random_state=123)\n",
        "ZCL4X_train, ZCL4X_test, ZCL4Y_train, ZCL4Y_test = train_test_split(ZCL4X,ZCL4Y, test_size=0.2, random_state=123)\n",
        "\n",
        "#Combine training sets into one set\n",
        "ZX_TRAIN = pd.concat([ZCL1X_train, ZCL2X_train, ZCL3X_train, ZCL4X_train])\n",
        "ZY_TRAIN = pd.concat([ZCL1Y_train, ZCL2Y_train, ZCL3Y_train, ZCL4Y_train])\n",
        "zx_train = ZX_TRAIN\n",
        "zy_train = ZY_TRAIN\n",
        "#Combine test sets into one set\n",
        "ZX_TEST = pd.concat([ZCL1X_test, ZCL2X_test, ZCL3X_test, ZCL4X_test])\n",
        "ZY_TEST = pd.concat([ZCL1Y_test, ZCL2Y_test, ZCL3Y_test, ZCL4Y_test])\n",
        "zx_test = ZX_TEST\n",
        "zy_test = ZY_TEST"
      ],
      "execution_count": null,
      "outputs": []
    },
    {
      "cell_type": "code",
      "metadata": {
        "id": "-Pm-B9WDj9Mb"
      },
      "source": [
        "%%time\n",
        "#Perform Knn with ZDATA\n",
        "\n",
        "k = 30 #use same k* as before\n",
        "print('K = ', k)\n",
        "knn = KNeighborsClassifier(n_neighbors=k)\n",
        "knn.fit(zx_train, zy_train)\n",
        "ztest_predictions = knn.predict(zx_test)\n",
        "ztrain_predictions = knn.predict(zx_train)\n",
        "\n",
        "train_accuracy = (ztrain_predictions==zy_train).sum()/len(zy_train)*100\n",
        "print('Accuracy for training set: %.2f%%' % train_accuracy)\n",
        "\n",
        "test_accuracy = (ztest_predictions==zy_test).sum()/len(zy_test)*100\n",
        "print('Accuracy for test set: %.2f%%' % test_accuracy)"
      ],
      "execution_count": null,
      "outputs": []
    },
    {
      "cell_type": "code",
      "metadata": {
        "id": "HIMuJwJrj9UA"
      },
      "source": [
        "#Confidence Interval for PCA model knn, k=3\n",
        "standard_dev = np.std((ztest_predictions==zy_test))\n",
        "mean = (ztest_predictions==zy_test).sum() / len(zy_test)\n",
        "z = 1.64485 #This is the Z score when we are looking for a 90% confidence interval\n",
        "n = len(zy_test)\n",
        "lower_bound = mean + (z * (standard_dev/np.sqrt(n)))\n",
        "upper_bound = mean - (z * (standard_dev/np.sqrt(n)))\n",
        "print(\"90 percent confidence interval: (%.4f,%.4f)\" % (lower_bound,upper_bound))\n"
      ],
      "execution_count": null,
      "outputs": []
    },
    {
      "cell_type": "markdown",
      "metadata": {
        "id": "L9uKxvGUj_H1"
      },
      "source": [
        "#### 3.5"
      ]
    },
    {
      "cell_type": "code",
      "metadata": {
        "id": "Ysl-2a9nkAb1"
      },
      "source": [
        "#rename to make graphing easier\n",
        "CL1DATA = ZCL1X_train #will be black\n",
        "CL2DATA = ZCL2X_train #will be red\n",
        "CL3DATA = ZCL3X_train #will be green\n",
        "CL4DATA = ZCL4X_train #will be blue"
      ],
      "execution_count": null,
      "outputs": []
    },
    {
      "cell_type": "code",
      "metadata": {
        "id": "FBIj6QDykAeu"
      },
      "source": [
        "#plot CL2 vs CL4\n",
        "plt.scatter(CL2DATA[1], CL2DATA[2], s =5, color = 'red')\n",
        "plt.scatter(CL4DATA[1], CL4DATA[2], s =5, color = 'blue')\n",
        "\n",
        "plt.legend(labels = ['CL2','CL4'])\n",
        "plt.title('CL2 vs CL4')"
      ],
      "execution_count": null,
      "outputs": []
    },
    {
      "cell_type": "code",
      "metadata": {
        "id": "GdJwMf2NkAhV"
      },
      "source": [
        "#plot CL2 vs CL3\n",
        "plt.scatter(CL2DATA[1], CL2DATA[2], s =5, color = 'red')\n",
        "plt.scatter(CL3DATA[1], CL3DATA[2], s =5, color = 'green')\n",
        "\n",
        "plt.legend(labels = ['CL2','CL3'])\n",
        "plt.title('CL2 vs CL3')"
      ],
      "execution_count": null,
      "outputs": []
    },
    {
      "cell_type": "code",
      "metadata": {
        "id": "_hgAxAjkkAkH"
      },
      "source": [
        "#plot CL2 vs CL1\n",
        "plt.scatter(CL2DATA[1], CL2DATA[2], s =5, color = 'red')\n",
        "plt.scatter(CL1DATA[1], CL1DATA[2], s =5, color = 'black')\n",
        "\n",
        "plt.legend(labels = ['CL2','CL1'])\n",
        "plt.title('CL2 vs CL1')"
      ],
      "execution_count": null,
      "outputs": []
    },
    {
      "cell_type": "markdown",
      "metadata": {
        "id": "Apqg98lhkA_2"
      },
      "source": [
        "#### 3.6"
      ]
    },
    {
      "cell_type": "code",
      "metadata": {
        "id": "6utbCA61eGA-"
      },
      "source": [
        "#Get data out of misclassifcation indexes\n",
        "ERR21DATA = CL2DATA.iloc[ERR21]\n",
        "ERR23DATA = CL2DATA.iloc[ERR23]\n",
        "ERR24DATA = CL2DATA.iloc[ERR24]"
      ],
      "execution_count": null,
      "outputs": []
    },
    {
      "cell_type": "code",
      "metadata": {
        "id": "7cLPCnfSkCof"
      },
      "source": [
        "\n",
        "#Plot misclassification errors for CL2\n",
        "plt.scatter(CL2DATA[1], CL2DATA[2], s = 5, color = 'red')\n",
        "plt.scatter(ERR21DATA[1], ERR21DATA[2], s = 5, color = 'black')\n",
        "plt.scatter(ERR23DATA[1], ERR23DATA[2], s = 5, color = 'green')\n",
        "plt.scatter(ERR24DATA[1], ERR24DATA[2], s = 5, color = 'blue')\n",
        "\n",
        "plt.legend(labels = ['CL2','ERR21','ERR23', 'ERR24'])\n",
        "plt.title('Misclassifcation Errors for CL2')"
      ],
      "execution_count": null,
      "outputs": []
    }
  ]
}
